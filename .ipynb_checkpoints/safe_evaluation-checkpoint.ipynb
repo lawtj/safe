{
 "cells": [
  {
   "cell_type": "markdown",
   "metadata": {
    "id": "w3zspSTuCWMY"
   },
   "source": [
    "# Image export (uncomment to run)"
   ]
  },
  {
   "cell_type": "code",
   "execution_count": 3,
   "metadata": {
    "id": "3b1VPqSHCVph"
   },
   "outputs": [],
   "source": [
    "# %%capture\n",
    "# !pip install kaleido\n",
    "# !wget https://github.com/plotly/orca/releases/download/v1.2.1/orca-1.2.1-x86_64.AppImage -O /usr/local/bin/orca\n",
    "# !chmod +x /usr/local/bin/orca\n",
    "# !apt-get install xvfb libgtk2.0-0 libgconf-2-4\n"
   ]
  },
  {
   "cell_type": "markdown",
   "metadata": {
    "id": "o2fSfCqOJASC"
   },
   "source": [
    "# Code Preamble"
   ]
  },
  {
   "cell_type": "code",
   "execution_count": 4,
   "metadata": {
    "id": "d4XBjl4WgQbk"
   },
   "outputs": [
    {
     "ename": "ModuleNotFoundError",
     "evalue": "No module named 'matplotlib'",
     "output_type": "error",
     "traceback": [
      "\u001b[1;31m---------------------------------------------------------------------------\u001b[0m",
      "\u001b[1;31mModuleNotFoundError\u001b[0m                       Traceback (most recent call last)",
      "Cell \u001b[1;32mIn[4], line 18\u001b[0m\n\u001b[0;32m     16\u001b[0m \u001b[38;5;28;01mimport\u001b[39;00m \u001b[38;5;21;01mnumpy\u001b[39;00m \u001b[38;5;28;01mas\u001b[39;00m \u001b[38;5;21;01mnp\u001b[39;00m\n\u001b[0;32m     17\u001b[0m \u001b[38;5;28;01mimport\u001b[39;00m \u001b[38;5;21;01mpandas\u001b[39;00m \u001b[38;5;28;01mas\u001b[39;00m \u001b[38;5;21;01mpd\u001b[39;00m\n\u001b[1;32m---> 18\u001b[0m \u001b[38;5;28;01mimport\u001b[39;00m \u001b[38;5;21;01mmatplotlib\u001b[39;00m\u001b[38;5;21;01m.\u001b[39;00m\u001b[38;5;21;01mpyplot\u001b[39;00m \u001b[38;5;28;01mas\u001b[39;00m \u001b[38;5;21;01mplt\u001b[39;00m\n\u001b[0;32m     19\u001b[0m \u001b[38;5;28;01mimport\u001b[39;00m \u001b[38;5;21;01mplotly\u001b[39;00m\u001b[38;5;21;01m.\u001b[39;00m\u001b[38;5;21;01mgraph_objects\u001b[39;00m \u001b[38;5;28;01mas\u001b[39;00m \u001b[38;5;21;01mgo\u001b[39;00m\n\u001b[0;32m     20\u001b[0m \u001b[38;5;28;01mimport\u001b[39;00m \u001b[38;5;21;01mplotly\u001b[39;00m\u001b[38;5;21;01m.\u001b[39;00m\u001b[38;5;21;01mexpress\u001b[39;00m \u001b[38;5;28;01mas\u001b[39;00m \u001b[38;5;21;01mpx\u001b[39;00m\n",
      "\u001b[1;31mModuleNotFoundError\u001b[0m: No module named 'matplotlib'"
     ]
    }
   ],
   "source": [
    "#@title\n",
    "# FLAG refers to something I need to come back to\n",
    "\n",
    "############ Points of reference fo counting: ############\n",
    "\n",
    "# Yes/No questions can be normalized, because they must take one of those values (Yes, No, or blank). Normalizing ignores the blanks\n",
    "# MCQs where you can pick 1 answer can be normalized to itself, e.g. oxytocin delivery method. 30% time was bolus, 70% of time was infusion. NOT total case numbers.\n",
    "\n",
    "# Checkboxes can be normalized, but think about what the denominator should be\n",
    "#### Indication = the denominator should be total # of all indications listed (e.g. of all the indications, obstructed labor made up 30% of them)\n",
    "######## As opposed to denominator being total number of cases, where you might have obstructed labor making up 10% of the indications, if it was left blank many times\n",
    "\n",
    "#### Theatre members present = the denominator should be the total # of cases (e.g. an anesthetist was present for 30% of cases)\n",
    "\n",
    "#@title\n",
    "import numpy as np\n",
    "import pandas as pd\n",
    "import matplotlib.pyplot as plt\n",
    "import plotly.graph_objects as go\n",
    "import plotly.express as px\n",
    "df = pd.read_csv('https://raw.githubusercontent.com/lawtj/safe/master/safeeval.csv')\n",
    "pd.options.plotting.backend = \"plotly\"\n",
    "\n",
    "\n",
    "for row in range(0,100):              #iterate over rows 0-100, which are blank because the field didn't exist initially\n",
    "  df.loc[row,'phase'] = \"Pre-SAFE\"    #replace cell with value\n",
    "\n",
    "#first exclude 'never attended safe'\n",
    "df = df[df['phase'] != \"Never attended SAFE\"]\n",
    "\n",
    "#df2 = df.copy() # make a copy of the total dataframe\n",
    "#df2 = df[df['phase'] == \"Immediately post SAFE\"] # set df2 to Immediately post safe only\n",
    "#presafe = df[df['phase'] == \"Pre-SAFE\"] # set presafe df to pre-safe only\n",
    "#df = df[df['phase'] == \"Pre-SAFE\"] # set df to pre-safe only\n",
    "totalcases = len(df.index)\n",
    "\n",
    "# label hospitals\n",
    "df['hospital'] = df['anesthetist_id']\n",
    "# somehow select anesthetist IDs that contain MB, etc. \n",
    "# See note in google keep about how to syntax for this\n",
    "df = df.replace({'hospital':{\n",
    "    'MB.*':'MB',\n",
    "    'Z.*':'Z',\n",
    "    'IR.*':'IR',\n",
    "    'R.*':'R',\n",
    "    'NJ.*':'NJ'\n",
    "}}, regex=True)\n",
    "\n",
    "# functions\n",
    "# this returns n, % \n",
    "def crossfx(var1, var2):\n",
    "    taba =  pd.crosstab(df[var1], df[var2], margins=True)\n",
    "    tabb = pd.crosstab(df[var1], df[var2], normalize='columns', margins=True)\n",
    "    tab2 = taba.join(tabb, lsuffix='_n', rsuffix = '_%')\n",
    "    tab2.columns = tab2.columns.map(lambda x: tuple(x.split('_')))\n",
    "    tab2 = (tab2.sort_index(ascending=[True, False] , axis=1)\n",
    "                .rename_axis(columns=['Phase', 'count/pct'], axis=1)\n",
    "        )\n",
    "    tab2 = tab2[['Pre-SAFE', 'Immediately post SAFE', '6 months post SAFE', '12-mo post SAFE','All']]\n",
    "    return taba, tab2\n",
    "\n",
    "# creates barchart from tab a above\n",
    "def barchart():\n",
    "    global taba\n",
    "    taba = taba[taba.index!= 'All']\n",
    "    taba = taba[['All']]\n",
    "    fig = go.Figure(go.Bar(x=taba.index, y=taba['All']))\n",
    "    return fig"
   ]
  },
  {
   "cell_type": "markdown",
   "metadata": {
    "id": "D0TPGCsUm77c"
   },
   "source": [
    "# Descriptives"
   ]
  },
  {
   "cell_type": "markdown",
   "metadata": {
    "id": "wWvOAuaGncwZ"
   },
   "source": [
    "## How many patients were observed per participant anesthetist?"
   ]
  },
  {
   "cell_type": "markdown",
   "metadata": {
    "id": "pLwWXOK95VEX"
   },
   "source": [
    "### Count and crosstabulation"
   ]
  },
  {
   "cell_type": "markdown",
   "metadata": {
    "id": "DvXnnQlkCdj4"
   },
   "source": [
    "Cases observed per observer and participant"
   ]
  },
  {
   "cell_type": "code",
   "execution_count": null,
   "metadata": {
    "colab": {
     "base_uri": "https://localhost:8080/",
     "height": 267
    },
    "id": "IiHHy9uxqoy1",
    "outputId": "69b31a77-b7da-4d0f-87ee-9a61069b2b89"
   },
   "outputs": [],
   "source": [
    "#@title\n",
    "t1 = pd.crosstab(df['observer_id'], df['anesthetist_id'], margins=False)\n",
    "t1"
   ]
  },
  {
   "cell_type": "code",
   "execution_count": null,
   "metadata": {
    "cellView": "form",
    "colab": {
     "base_uri": "https://localhost:8080/",
     "height": 542
    },
    "id": "X4LUAw0vBx0H",
    "outputId": "c29ed4dd-77f6-4bde-8448-40775c42f3ce"
   },
   "outputs": [],
   "source": [
    "#@title\n",
    "fig = px.imshow(t1, text_auto=True)\n",
    "fig.show()"
   ]
  },
  {
   "cell_type": "markdown",
   "metadata": {
    "id": "gb074BCVCrX6"
   },
   "source": [
    "Cases per participant for each phase. Did any participant make up a large amount of any given phase?"
   ]
  },
  {
   "cell_type": "code",
   "execution_count": null,
   "metadata": {
    "id": "Zm2sU0ZX_Nwq"
   },
   "outputs": [],
   "source": [
    "#@title\n",
    "t1 = pd.crosstab(df['anesthetist_id'], df['phase'], normalize='columns')\n",
    "t1 = t1.round(2)"
   ]
  },
  {
   "cell_type": "code",
   "execution_count": null,
   "metadata": {
    "colab": {
     "base_uri": "https://localhost:8080/",
     "height": 542
    },
    "id": "7yza69kD_9qc",
    "outputId": "5c66c525-ccaf-46a4-af85-30b14276eb26"
   },
   "outputs": [],
   "source": [
    "#@title\n",
    "fig = px.imshow(t1.T, text_auto=True)\n",
    "fig.show()"
   ]
  },
  {
   "cell_type": "code",
   "execution_count": null,
   "metadata": {
    "colab": {
     "base_uri": "https://localhost:8080/",
     "height": 542
    },
    "id": "PPjBUImsFNld",
    "outputId": "abe1d5b5-901f-4ce4-fc2e-df07e5f41275"
   },
   "outputs": [],
   "source": [
    "#@title\n",
    "t1 = pd.crosstab(df['anesthetist_id'], df['phase'])\n",
    "fig = px.imshow(t1.T, text_auto=True)\n",
    "fig.show()"
   ]
  },
  {
   "cell_type": "code",
   "execution_count": null,
   "metadata": {
    "colab": {
     "base_uri": "https://localhost:8080/",
     "height": 542
    },
    "id": "VZaMDVj5-2_g",
    "outputId": "71b04fe9-5a6b-435f-aa18-2f81ae46e7e0"
   },
   "outputs": [],
   "source": [
    "fig = px.bar(df, x=df['anesthetist_id'].value_counts().index, y=df['anesthetist_id'].value_counts().values,\n",
    "             labels={\n",
    "                     'x': \"Participant ID\",\n",
    "                     'y': \"Count of cases\",\n",
    "                 },\n",
    "             title='# of cases per participant')\n",
    "fig.show()"
   ]
  },
  {
   "cell_type": "code",
   "execution_count": null,
   "metadata": {
    "id": "IOe0bUdlCHw0"
   },
   "outputs": [],
   "source": [
    "fig.write_image(\"fig1.png\")"
   ]
  },
  {
   "cell_type": "markdown",
   "metadata": {
    "id": "RXcE_KkyGi5_"
   },
   "source": [
    "### number of those attended safe"
   ]
  },
  {
   "cell_type": "markdown",
   "metadata": {
    "id": "RTVYpbuERqml"
   },
   "source": [
    "How many observed had attended SAFE, vs never attended SAFE?"
   ]
  },
  {
   "cell_type": "code",
   "execution_count": null,
   "metadata": {
    "colab": {
     "base_uri": "https://localhost:8080/",
     "height": 206
    },
    "id": "q6owObwlMJZ7",
    "outputId": "ad1113d2-e691-47e4-e115-289301df8d6c"
   },
   "outputs": [],
   "source": [
    "df.pivot_table(index=['safe_yn'], columns=['phase'], values=['anesthetist_id'], aggfunc=pd.Series.nunique, margins=True)"
   ]
  },
  {
   "cell_type": "markdown",
   "metadata": {
    "id": "HN8vQeTDR0jf"
   },
   "source": [
    "Looks as though there are 40 unique anesthetist_ids in total.\n",
    "\n",
    "In total, 30 people were observed when they hadn't attended a SAFE course. \n",
    "\n",
    "25 people were observed pre-safe, but there are only 23 individuals marked as 'having attended safe', so 2 people were observed pre safe but never observed post-safe."
   ]
  },
  {
   "cell_type": "markdown",
   "metadata": {
    "id": "VO3NxLqORprg"
   },
   "source": [
    "People who had never attended safe: need to get a list of all unique IDs, and remove those also present in any post SAFE observation.\n",
    "\n",
    "this still leaves the possibility that some were observed PRE safe, and went on to take safe, but were not observed"
   ]
  },
  {
   "cell_type": "code",
   "execution_count": null,
   "metadata": {
    "colab": {
     "base_uri": "https://localhost:8080/"
    },
    "id": "lf0qMzithptt",
    "outputId": "cff100a0-1107-4109-abc6-bf4d51f798d6"
   },
   "outputs": [],
   "source": [
    "#list of unique anesthetist IDs\n",
    "t1 = df.anesthetist_id.unique().tolist()\n",
    "t1"
   ]
  },
  {
   "cell_type": "code",
   "execution_count": null,
   "metadata": {
    "colab": {
     "base_uri": "https://localhost:8080/"
    },
    "id": "a_fbD52ogxzL",
    "outputId": "9569dba6-d55e-4f68-9d8c-21e7821d6ccb"
   },
   "outputs": [],
   "source": [
    "#list of those observed in any post-safe phase\n",
    "t2 = df[(df['phase'] != 'Never attended SAFE') & (df['phase'] != 'Pre-SAFE')]['anesthetist_id'].unique().tolist() #DF where phase is not never and is not presafe\n",
    "t2"
   ]
  },
  {
   "cell_type": "code",
   "execution_count": null,
   "metadata": {
    "colab": {
     "base_uri": "https://localhost:8080/"
    },
    "id": "61sQwfH_jqWH",
    "outputId": "c0c66c94-bfed-48d9-9bd2-a1652ce430ce"
   },
   "outputs": [],
   "source": [
    "# #of IDs in the total, minus those who were ever observed post\n",
    "print(t1)\n",
    "print(t2)\n",
    "print(len(set(t1) - set(t2)))"
   ]
  },
  {
   "cell_type": "markdown",
   "metadata": {
    "id": "hCe_eq2hdTg2"
   },
   "source": [
    "## Count of cases by hospital"
   ]
  },
  {
   "cell_type": "code",
   "execution_count": null,
   "metadata": {
    "colab": {
     "base_uri": "https://localhost:8080/",
     "height": 300
    },
    "id": "19yveSfCByM7",
    "outputId": "1b8fa86f-b8dc-42b6-a9f1-3a41960d9f1e"
   },
   "outputs": [],
   "source": [
    "taba, t1 = crossfx('hospital', 'phase')\n",
    "t1"
   ]
  },
  {
   "cell_type": "code",
   "execution_count": null,
   "metadata": {
    "colab": {
     "base_uri": "https://localhost:8080/",
     "height": 542
    },
    "id": "r9MtqN8Ss-aw",
    "outputId": "2d02fa0c-9fca-4b08-f2d0-17cc19ab75de"
   },
   "outputs": [],
   "source": [
    "barchart()"
   ]
  },
  {
   "cell_type": "markdown",
   "metadata": {
    "id": "m5BknwHd4vHu"
   },
   "source": [
    "## What cadre were participants?"
   ]
  },
  {
   "cell_type": "markdown",
   "metadata": {
    "id": "4fSGTczF5ISt"
   },
   "source": [
    "### Count"
   ]
  },
  {
   "cell_type": "code",
   "execution_count": null,
   "metadata": {
    "colab": {
     "base_uri": "https://localhost:8080/",
     "height": 237
    },
    "id": "OgkAydGt4yPN",
    "outputId": "ed44318f-f73e-4b7c-d96e-af118dfb3fb2"
   },
   "outputs": [],
   "source": [
    "taba, t1 = crossfx('cadre','phase')\n",
    "t1"
   ]
  },
  {
   "cell_type": "code",
   "execution_count": null,
   "metadata": {
    "colab": {
     "base_uri": "https://localhost:8080/"
    },
    "id": "33wjncrMwnfO",
    "outputId": "3ec07593-216d-405b-de30-c5b82d3e404d"
   },
   "outputs": [],
   "source": [
    "t1.to_excel('cadre.xls')"
   ]
  },
  {
   "cell_type": "markdown",
   "metadata": {
    "id": "R4YMwuJr5MSC"
   },
   "source": [
    "### Figure"
   ]
  },
  {
   "cell_type": "code",
   "execution_count": null,
   "metadata": {
    "colab": {
     "base_uri": "https://localhost:8080/",
     "height": 542
    },
    "id": "2n5kTLa3oYoe",
    "outputId": "04f333c2-2ff3-454b-e0da-c5c6a99e8f2a"
   },
   "outputs": [],
   "source": [
    "barchart()"
   ]
  },
  {
   "cell_type": "markdown",
   "metadata": {
    "id": "GEHIXAM06krp"
   },
   "source": [
    "## ASA Category"
   ]
  },
  {
   "cell_type": "code",
   "execution_count": null,
   "metadata": {
    "colab": {
     "base_uri": "https://localhost:8080/",
     "height": 300
    },
    "id": "5Mu5gqWLvmeL",
    "outputId": "2891fa64-46ca-496e-afbd-9f5101c7ffb4"
   },
   "outputs": [],
   "source": [
    "taba, t1 = crossfx('case_asa', 'phase')\n",
    "t1"
   ]
  },
  {
   "cell_type": "code",
   "execution_count": null,
   "metadata": {
    "id": "o-3FJKbAxEJi"
   },
   "outputs": [],
   "source": []
  },
  {
   "cell_type": "code",
   "execution_count": null,
   "metadata": {
    "colab": {
     "base_uri": "https://localhost:8080/",
     "height": 542
    },
    "id": "FFdBGttrvw1Q",
    "outputId": "aded31e3-394e-4543-f5db-b7f0f3a88654"
   },
   "outputs": [],
   "source": [
    "barchart()"
   ]
  },
  {
   "cell_type": "markdown",
   "metadata": {
    "id": "UoF4InS36sZ7"
   },
   "source": [
    "## Case Urgency"
   ]
  },
  {
   "cell_type": "code",
   "execution_count": null,
   "metadata": {
    "colab": {
     "base_uri": "https://localhost:8080/",
     "height": 206
    },
    "id": "mekEsNAuxshd",
    "outputId": "3961bdda-af03-4358-8438-cb173d60c970"
   },
   "outputs": [],
   "source": [
    "taba, t1 = crossfx('case_urgency','phase')\n",
    "t1"
   ]
  },
  {
   "cell_type": "code",
   "execution_count": null,
   "metadata": {
    "colab": {
     "base_uri": "https://localhost:8080/"
    },
    "id": "14XiEojZx1zh",
    "outputId": "f12b6f7c-5c31-4d26-9c06-5752eb7fcd56"
   },
   "outputs": [],
   "source": [
    "t1.to_excel('urgency.xls')"
   ]
  },
  {
   "cell_type": "code",
   "execution_count": null,
   "metadata": {
    "colab": {
     "base_uri": "https://localhost:8080/",
     "height": 542
    },
    "id": "o_l4l_SlxyPn",
    "outputId": "90b37d52-ab70-4b08-86af-83b7aac50c6c"
   },
   "outputs": [],
   "source": [
    "barchart()"
   ]
  },
  {
   "cell_type": "markdown",
   "metadata": {
    "id": "ccVVO38V6z39"
   },
   "source": [
    "##Initial Technique (spinal vs GA)"
   ]
  },
  {
   "cell_type": "markdown",
   "metadata": {
    "id": "VIurPdv2xrm_"
   },
   "source": [
    "### Frequency"
   ]
  },
  {
   "cell_type": "code",
   "execution_count": null,
   "metadata": {
    "cellView": "form",
    "colab": {
     "base_uri": "https://localhost:8080/",
     "height": 112
    },
    "id": "ouGXMdmjK2J1",
    "outputId": "215be4d2-9c10-4268-b996-47ffe51edbdd"
   },
   "outputs": [],
   "source": [
    "#@title\n",
    "t1 = df.case_initialtechnique.value_counts()\n",
    "t2 = df.case_initialtechnique.value_counts()/totalcases\n",
    "t3 = pd.DataFrame(pd.concat([t1,t2], axis=1))\n",
    "t3.columns= ['count','percent of total cases']\n",
    "t3"
   ]
  },
  {
   "cell_type": "markdown",
   "metadata": {
    "id": "JPJHdGB7xtDu"
   },
   "source": [
    "### Figure"
   ]
  },
  {
   "cell_type": "code",
   "execution_count": null,
   "metadata": {
    "cellView": "form",
    "colab": {
     "base_uri": "https://localhost:8080/",
     "height": 542
    },
    "id": "GrlN3USZxaok",
    "outputId": "0c72bb57-63aa-4140-d978-8e1bc87015e0"
   },
   "outputs": [],
   "source": [
    "#@title\n",
    "fig = go.Figure([go.Bar(x=t1.index, y=t1[0:])])\n",
    "fig.show()"
   ]
  },
  {
   "cell_type": "markdown",
   "metadata": {
    "id": "PeJKY4a5tqsV"
   },
   "source": [
    "## Indication"
   ]
  },
  {
   "cell_type": "markdown",
   "metadata": {
    "id": "sHp90gxm0oez"
   },
   "source": [
    "### Frequency of indication"
   ]
  },
  {
   "cell_type": "code",
   "execution_count": null,
   "metadata": {
    "id": "EIs8Jmlc2W4v"
   },
   "outputs": [],
   "source": [
    "#@title\n",
    "#######################\n",
    "###############\n",
    "########## you do NOT need to do this step. have a new method to create the \n",
    "########## crosstab tables first, and label after. See 'spinal' section below\n",
    "########## just keeping it here so i don't have to type it out again\n",
    "# replace 'checked' with type of indication in main dataframe\n",
    "# note to self: You could do this at the beginning when you open the dataframe\n",
    "df = df.replace({'indication___1':{'Checked':'Obstructed labour'}})\n",
    "df = df.replace({'indication___2':{'Checked':'previous scars'}})\n",
    "df = df.replace({'indication___3':{'Checked':'Antepartum hemmorhage'}})\n",
    "df = df.replace({'indication___4':{'Checked':'Placental abruption'}})\n",
    "df = df.replace({'indication___5':{'Checked':'Placenta accreta/percreta'}})\n",
    "df = df.replace({'indication___6':{'Checked':'Eclampsia'}})\n",
    "df = df.replace({'indication___7':{'Checked':'Severe pre-eclampsia'}})\n",
    "df = df.replace({'indication___8':{'Checked':'Fetal distress'}})\n",
    "df = df.replace({'indication___9':{'Checked':'Cord prolapse'}})\n",
    "df = df.replace({'indication___10':{'Checked':'Multiple pregnancy'}})\n",
    "df = df.replace({'indication___11':{'Checked':'Breech presentation'}})\n",
    "df = df.replace({'indication___12':{'Checked':'Other'}})\n",
    "\n",
    "indicationlist = ['indication___1' , 'indication___2', 'indication___3',\n",
    "                  'indication___4', 'indication___5', 'indication___6',\n",
    "                  'indication___7','indication___8','indication___9',\n",
    "                  'indication___10','indication___11','indication___12']"
   ]
  },
  {
   "cell_type": "code",
   "execution_count": null,
   "metadata": {
    "colab": {
     "base_uri": "https://localhost:8080/",
     "height": 363
    },
    "id": "bVgGxDGf2run",
    "outputId": "1af37c06-2246-4553-dad3-207109a8bcf6"
   },
   "outputs": [],
   "source": [
    "#indication N count\n",
    "indicationN = pd.DataFrame\n",
    "dfs = []\n",
    "\n",
    "for i in indicationlist:\n",
    "    t1 = pd.crosstab(df[i],df['phase'],margins=True)\n",
    "    dfs.append(t1)\n",
    "\n",
    "indicationN = pd.concat(dfs, axis=0, keys=indicationlist)\n",
    "indicationN\n",
    "\n",
    "#indicaton % count\n",
    "indicationPct = pd.DataFrame\n",
    "dfs = []\n",
    "\n",
    "for i in indicationlist:\n",
    "    t1 = pd.crosstab(df[i],df['phase'],margins=True, normalize='columns')\n",
    "    dfs.append(t1)\n",
    "\n",
    "indicationPct = pd.concat(dfs, axis=0, keys=indicationlist)\n",
    "\n",
    "#Join two tables *together*\n",
    "indication = pd.DataFrame()\n",
    "indication = indicationN.join(indicationPct, lsuffix='_n', rsuffix='_%')\n",
    "indication.columns = indication.columns.map(lambda x: tuple(x.split('_')))\n",
    "indication = (indication.sort_index(ascending=[True, False] , axis=1)\n",
    "            .rename_axis(columns=['phase', 'count_pct'], axis=1)\n",
    "       )\n",
    "\n",
    "##cleanup table\n",
    "# set column order\n",
    "indication = indication[['Pre-SAFE', 'Immediately post SAFE', '6 months post SAFE', '12-mo post SAFE','All']]\n",
    "\n",
    "#remove multiindex\n",
    "indication = indication.droplevel(0)\n",
    "#remove unchecked and column %s\n",
    "indication= indication.drop(['Unchecked', 'All'], axis=0)\n",
    "indication = indication.sort_values([('All','%')], ascending=False)\n",
    "\n",
    "indication"
   ]
  },
  {
   "cell_type": "code",
   "execution_count": null,
   "metadata": {
    "colab": {
     "base_uri": "https://localhost:8080/"
    },
    "id": "cog-n16b6dKY",
    "outputId": "99da54dc-6ca0-4dbb-ff29-cc46f8647bef"
   },
   "outputs": [],
   "source": [
    "indication.to_excel('indicationdescriptives.xls')"
   ]
  },
  {
   "cell_type": "markdown",
   "metadata": {
    "id": "VMD6t-qY057H"
   },
   "source": [
    "### Figure"
   ]
  },
  {
   "cell_type": "code",
   "execution_count": null,
   "metadata": {
    "cellView": "form",
    "colab": {
     "base_uri": "https://localhost:8080/",
     "height": 542
    },
    "id": "DECg57mTzOlQ",
    "outputId": "3a685729-2365-4013-b06f-329533f049f3"
   },
   "outputs": [],
   "source": [
    "#@title\n",
    "#create a series of the value counts\n",
    "indication = indication.value_counts()\n",
    "\n",
    "#plot the value counts series\n",
    "fig = go.Figure([go.Bar(x=indication.index, y=indication[0:])])\n",
    "fig.show()"
   ]
  },
  {
   "cell_type": "markdown",
   "metadata": {
    "id": "Eo1Y15Bcal0_"
   },
   "source": [
    "### Other indications?"
   ]
  },
  {
   "cell_type": "code",
   "execution_count": null,
   "metadata": {
    "cellView": "form",
    "colab": {
     "base_uri": "https://localhost:8080/"
    },
    "id": "rw3KVhbeaYPc",
    "outputId": "fb483994-cfbe-48e0-899c-b27e50262631"
   },
   "outputs": [],
   "source": [
    "#@title\n",
    "df.indication_other.dropna()"
   ]
  },
  {
   "cell_type": "markdown",
   "metadata": {
    "id": "pZuC25BK4whd"
   },
   "source": [
    "## Pre-Eclampsia box"
   ]
  },
  {
   "cell_type": "code",
   "execution_count": null,
   "metadata": {
    "cellView": "form",
    "id": "rJC8AskA4yoZ"
   },
   "outputs": [],
   "source": [
    "#@title\n",
    "# counts of yes and no for eclampsia actions\n",
    "t1 = df.ecl_coag.value_counts()\n",
    "t2 = df.ecl_antihtn.value_counts()\n",
    "t3 = df.ecl_mgs04.value_counts()\n",
    "t4 = df.ecl_avoidspinal.value_counts()\n",
    "t5 = df.ecl_garsi.value_counts()\n",
    "\n",
    "#glue eclampsia actions together and transpose\n",
    "ecl = pd.concat([t1, t2, t3, t4, t5], axis=1, sort=False)\n",
    "ecl = ecl.transpose()\n"
   ]
  },
  {
   "cell_type": "markdown",
   "metadata": {
    "id": "YAwP4M8rE1VO"
   },
   "source": [
    "### Frequency of pre-E actions"
   ]
  },
  {
   "cell_type": "code",
   "execution_count": null,
   "metadata": {
    "cellView": "form",
    "colab": {
     "base_uri": "https://localhost:8080/",
     "height": 206
    },
    "id": "h2uKkQsJ6w8w",
    "outputId": "965d8c14-a7d1-458e-dee4-d7bbe78acef8"
   },
   "outputs": [],
   "source": [
    "#@title\n",
    "#rename variables\n",
    "s = pd.Series(['Confirm platelet/coagulation values', 'Confirm anti-hypertensives available', 'Confirm MgSO4 available', 'Avoids spinal if platelets < 80,000', 'If eclampsia, proceeds to GA with RSI'])\n",
    "ecl = ecl.set_index(s)\n",
    "ecl"
   ]
  },
  {
   "cell_type": "markdown",
   "metadata": {
    "id": "j79GR_VPE5Qb"
   },
   "source": [
    "### Figure"
   ]
  },
  {
   "cell_type": "code",
   "execution_count": null,
   "metadata": {
    "colab": {
     "base_uri": "https://localhost:8080/",
     "height": 542
    },
    "id": "uX7n40vF6WVs",
    "outputId": "8d2ce8bd-943c-4094-9304-03327fa9bc5c"
   },
   "outputs": [],
   "source": [
    "#@title\n",
    "fig = go.Figure(data=[\n",
    "  go.Bar(name = 'Yes', x=ecl.index, y=ecl['Yes']),\n",
    "  go.Bar(name = 'No', x=ecl.index, y=ecl['No'])\n",
    "])\n",
    "\n",
    "fig.update_layout(barmode='group')\n",
    "fig.show()"
   ]
  },
  {
   "cell_type": "markdown",
   "metadata": {
    "id": "H3uXy50MBNqF"
   },
   "source": [
    "## Type of Incision"
   ]
  },
  {
   "cell_type": "markdown",
   "metadata": {
    "id": "qirrTsq8B8MG"
   },
   "source": [
    "### Count"
   ]
  },
  {
   "cell_type": "code",
   "execution_count": null,
   "metadata": {
    "cellView": "form",
    "colab": {
     "base_uri": "https://localhost:8080/"
    },
    "id": "UNrWy2FcBPdC",
    "outputId": "2653caa1-4596-4156-d6d2-51ada9b2a81c"
   },
   "outputs": [],
   "source": [
    "#@title\n",
    "incision = df.incisiontype.value_counts()\n",
    "incision"
   ]
  },
  {
   "cell_type": "markdown",
   "metadata": {
    "id": "ingVfcDZB9Yp"
   },
   "source": [
    "### Figure"
   ]
  },
  {
   "cell_type": "code",
   "execution_count": null,
   "metadata": {
    "cellView": "form",
    "colab": {
     "base_uri": "https://localhost:8080/",
     "height": 542
    },
    "id": "iGKvt28pBo8e",
    "outputId": "dc9935a4-b901-4302-ca86-00950efb9019"
   },
   "outputs": [],
   "source": [
    "#@title\n",
    "fig = go.Figure([go.Bar(x=incision.index, y=incision[0:])])\n",
    "fig.show()"
   ]
  },
  {
   "cell_type": "markdown",
   "metadata": {
    "id": "Nl5lqyQiqgj5"
   },
   "source": [
    "## Times: Informed, Incision and delivery time (Emergency surgeries only)"
   ]
  },
  {
   "cell_type": "code",
   "execution_count": null,
   "metadata": {
    "id": "DfaFKkCNQz1X"
   },
   "outputs": [],
   "source": [
    "#@title\n",
    "df_emerg = df.copy()\n",
    "df_emerg = df_emerg[df_emerg['case_urgency'] ==  \"Emergency\"]\n",
    "\n",
    "#first concatenate the date and the times together\n",
    "#df_emerg['datetime_informed'] = df_emerg['obs_date'].astype(str) + \" \" + df_emerg['time_informed']\n",
    "#df_emerg['incision_datetime'] = df_emerg['obs_date'].astype(str) + \" \" + df_emerg.incisiontime\n",
    "#df_emerg['datetime_birth'] = df_emerg.obs_date.astype(str) + \" \" + df_emerg.time_birth\n",
    "#df_emerg['datetime_skinclosed'] = df_emerg.obs_date.astype(str) + \" \" + df_emerg.time_skinclosed\n",
    "\n",
    "df_emerg['datetime_informed'] = df_emerg['time_informed']\n",
    "df_emerg['incision_datetime'] = df_emerg['incisiontime']\n",
    "df_emerg['datetime_birth'] = df['time_birth']\n",
    "df_emerg['datetime_skinclosed'] = df_emerg['time_skinclosed']\n",
    "\n",
    "#then convert the new datetimes to time format\n",
    "df_emerg['datetime_informed'] = pd.to_datetime(df_emerg.datetime_informed)\n",
    "df_emerg['incision_datetime'] = pd.to_datetime(df_emerg.incision_datetime)\n",
    "df_emerg['datetime_birth'] = pd.to_datetime(df_emerg.datetime_birth)\n",
    "df_emerg['datetime_skinclosed'] = pd.to_datetime(df_emerg.datetime_skinclosed)"
   ]
  },
  {
   "cell_type": "code",
   "execution_count": null,
   "metadata": {
    "cellView": "both",
    "id": "tjUAXFaFrfWN"
   },
   "outputs": [],
   "source": [
    "#find difference between times\n",
    "df_emerg['informedtoincision'] = df_emerg.incision_datetime - df_emerg.datetime_informed\n",
    "df_emerg['timetodelivery'] = df_emerg.datetime_birth - df_emerg.incision_datetime\n",
    "df_emerg['deliverytoclosure'] = df_emerg.datetime_skinclosed - df_emerg.datetime_birth\n",
    "df_emerg['incisiontoclosure'] = df_emerg.datetime_skinclosed - df_emerg.incision_datetime\n",
    "\n",
    "# convert times to seconds\n",
    "df_emerg['informedtoincision'] = df_emerg['informedtoincision'].dt.seconds\n",
    "df_emerg['timetodelivery'] = df_emerg['timetodelivery'].dt.seconds\n",
    "df_emerg['deliverytoclosure'] = df_emerg['deliverytoclosure'].dt.seconds\n",
    "df_emerg['incisiontoclosure'] = df_emerg['incisiontoclosure'].dt.seconds\n",
    "\n",
    "#divide seconds into minutes\n",
    "df_emerg['informedtoincision'] = df_emerg['informedtoincision']/60\n",
    "df_emerg['incisiontoclosure'] = df_emerg['incisiontoclosure']/60\n",
    "df_emerg['timetodelivery'] = df_emerg['timetodelivery']/60\n",
    "df_emerg['deliverytoclosure'] = df_emerg['deliverytoclosure']/60"
   ]
  },
  {
   "cell_type": "code",
   "execution_count": null,
   "metadata": {
    "cellView": "form",
    "colab": {
     "base_uri": "https://localhost:8080/",
     "height": 542
    },
    "id": "Qi0FUF0x3I8A",
    "outputId": "ade56a15-2185-4546-ad29-44af232496d5"
   },
   "outputs": [],
   "source": [
    "#@title\n",
    "fig = go.Figure()\n",
    "fig.add_trace(go.Box(y=df_emerg['informedtoincision'], name='anesthetist informed to incision', boxpoints='all'))\n",
    "fig.add_trace(go.Box(y=df_emerg['timetodelivery'], name='incision to delivery to birth', boxpoints='all'))\n",
    "fig.add_trace(go.Box(y=df_emerg['deliverytoclosure'], name='delivery to closure', boxpoints='all'))\n",
    "fig.add_trace(go.Box(y=df_emerg['incisiontoclosure'], name='incision to closure', boxpoints='all'))\n",
    "\n",
    "fig.show()"
   ]
  },
  {
   "cell_type": "markdown",
   "metadata": {
    "id": "qgD2gUXXCgDI"
   },
   "source": [
    "## Baseline Vitals"
   ]
  },
  {
   "cell_type": "code",
   "execution_count": null,
   "metadata": {
    "colab": {
     "base_uri": "https://localhost:8080/",
     "height": 542
    },
    "id": "k1_k-7OkwnRe",
    "outputId": "5193206a-1cfc-4ed5-cf12-ab4646ea0604"
   },
   "outputs": [],
   "source": [
    "#@title\n",
    "fig = go.Figure()\n",
    "fig.add_trace(go.Box(y=df['baseline_hr'], name='HR', boxpoints='all'))\n",
    "fig.add_trace(go.Box(y=df['baseline_sbp'], name = 'sbp', boxpoints='all'))\n",
    "fig.add_trace(go.Box(y=df['baseline_dbp'], name = 'dbp', boxpoints='all'))\n",
    "fig.add_trace(go.Box(y=df['baseline_spo2'], name = 'SpO2', boxpoints='all'))\n",
    "\n",
    "fig.show()"
   ]
  },
  {
   "cell_type": "markdown",
   "metadata": {
    "id": "_GzZvDMtahH_"
   },
   "source": [
    "### How much preeclampsia?\n"
   ]
  },
  {
   "cell_type": "code",
   "execution_count": null,
   "metadata": {
    "colab": {
     "base_uri": "https://localhost:8080/"
    },
    "id": "eIFSvp8Zad3v",
    "outputId": "e0a594f3-cc72-43b5-bdaf-e73f3df433f4"
   },
   "outputs": [],
   "source": [
    "#@title\n",
    "pree = df.copy()\n",
    "pree = pree[pree['baseline_sbp'] >=140]\n",
    "t1 = pree['baseline_sbp'].count()\n",
    "print('There are ',t1,'cases with SBP>140')"
   ]
  },
  {
   "cell_type": "markdown",
   "metadata": {
    "id": "gbRESGVvOID0"
   },
   "source": [
    "### What proportion of time were baseline vitals measured?\n",
    "\n",
    "Number of cases with recorded vital signs / all cases"
   ]
  },
  {
   "cell_type": "code",
   "execution_count": null,
   "metadata": {
    "cellView": "form",
    "colab": {
     "base_uri": "https://localhost:8080/",
     "height": 175
    },
    "id": "vOvaSutKOSj_",
    "outputId": "9b8b774a-98e5-460f-d216-fdfc5fe1784b"
   },
   "outputs": [],
   "source": [
    "#@title\n",
    "# start by counting number of nonblanks in each variable\n",
    "# e.g number of nonblank basline HR\n",
    "# df.baseline.hr.count() = ignores NaN by default\n",
    "\n",
    "t1 = df.baseline_hr.count()/len(df.index) # percent of cases with baseline HR\n",
    "t2 = df.baseline_sbp.count()/len(df.index) # percent of cases with baseline SBP\n",
    "t3 = df.baseline_dbp.count()/len(df.index) # percent of cases with baseline DBP\n",
    "t4 = df.baseline_spo2.count()/len(df.index) # percent of cases with baseline SpO2\n",
    "\n",
    "baselinepct = {'% of cases measured': [t1, t2, t3, t4]}\n",
    "baselinepct = pd.DataFrame(data=baselinepct)\n",
    "baselinepct = baselinepct.set_index(pd.Index(['Heart rate', 'SBP', 'DBP', 'SpO2']))\n",
    "baselinepct\n",
    "#len(df.index) # number of rows in dataframe"
   ]
  },
  {
   "cell_type": "markdown",
   "metadata": {
    "id": "kQ4yaBkss6bE"
   },
   "source": [
    "## Team Members Present"
   ]
  },
  {
   "cell_type": "code",
   "execution_count": 5,
   "metadata": {
    "cellView": "form",
    "id": "NCVZ9sByuCTA"
   },
   "outputs": [
    {
     "ename": "NameError",
     "evalue": "name 'df' is not defined",
     "output_type": "error",
     "traceback": [
      "\u001b[1;31m---------------------------------------------------------------------------\u001b[0m",
      "\u001b[1;31mNameError\u001b[0m                                 Traceback (most recent call last)",
      "Cell \u001b[1;32mIn[5], line 4\u001b[0m\n\u001b[0;32m      1\u001b[0m \u001b[38;5;66;03m#@title\u001b[39;00m\n\u001b[0;32m      2\u001b[0m \u001b[38;5;66;03m# replace 'checked' with which team members present in main dataframe\u001b[39;00m\n\u001b[0;32m      3\u001b[0m \u001b[38;5;66;03m# note to self: You could do this at the beginning when you open the dataframe\u001b[39;00m\n\u001b[1;32m----> 4\u001b[0m df \u001b[38;5;241m=\u001b[39m \u001b[43mdf\u001b[49m\u001b[38;5;241m.\u001b[39mreplace({\u001b[38;5;124m'\u001b[39m\u001b[38;5;124mteam___1\u001b[39m\u001b[38;5;124m'\u001b[39m:{\u001b[38;5;124m'\u001b[39m\u001b[38;5;124mChecked\u001b[39m\u001b[38;5;124m'\u001b[39m:\u001b[38;5;124m'\u001b[39m\u001b[38;5;124mObstetrician resident\u001b[39m\u001b[38;5;124m'\u001b[39m}})\n\u001b[0;32m      5\u001b[0m df \u001b[38;5;241m=\u001b[39m df\u001b[38;5;241m.\u001b[39mreplace({\u001b[38;5;124m'\u001b[39m\u001b[38;5;124mteam___2\u001b[39m\u001b[38;5;124m'\u001b[39m:{\u001b[38;5;124m'\u001b[39m\u001b[38;5;124mChecked\u001b[39m\u001b[38;5;124m'\u001b[39m:\u001b[38;5;124m'\u001b[39m\u001b[38;5;124mObstetrician consultant\u001b[39m\u001b[38;5;124m'\u001b[39m}})\n\u001b[0;32m      6\u001b[0m df \u001b[38;5;241m=\u001b[39m df\u001b[38;5;241m.\u001b[39mreplace({\u001b[38;5;124m'\u001b[39m\u001b[38;5;124mteam___3\u001b[39m\u001b[38;5;124m'\u001b[39m:{\u001b[38;5;124m'\u001b[39m\u001b[38;5;124mChecked\u001b[39m\u001b[38;5;124m'\u001b[39m:\u001b[38;5;124m'\u001b[39m\u001b[38;5;124mMedical officer\u001b[39m\u001b[38;5;124m'\u001b[39m}})\n",
      "\u001b[1;31mNameError\u001b[0m: name 'df' is not defined"
     ]
    }
   ],
   "source": [
    "#@title\n",
    "# replace 'checked' with which team members present in main dataframe\n",
    "# note to self: You could do this at the beginning when you open the dataframe\n",
    "df = df.replace({'team___1':{'Checked':'Obstetrician resident'}})\n",
    "df = df.replace({'team___2':{'Checked':'Obstetrician consultant'}})\n",
    "df = df.replace({'team___3':{'Checked':'Medical officer'}})\n",
    "df = df.replace({'team___4':{'Checked':'Intern'}})\n",
    "df = df.replace({'team___5':{'Checked':'Anesthetist'}})\n",
    "df = df.replace({'team___6':{'Checked':'Theatre nurse (runner)'}})\n",
    "df = df.replace({'team___7':{'Checked':'Scrub nurse'}})\n",
    "df = df.replace({'team___8':{'Checked':'Midwife'}})\n",
    "df = df.replace({'team___9':{'Checked':'Neonatal term (doctor or nurse)'}})\n",
    "df = df.replace({'team___10':{'Checked':'Medical student'}})\n",
    "df = df.replace({'team___11':{'Checked':'Other'}})\n",
    "\n",
    "# create dummy variables for team members\n",
    "t1 = df.team___1\n",
    "t2 = df.team___2\n",
    "t3 = df.team___3\n",
    "t4 = df.team___4\n",
    "t5 = df.team___5\n",
    "t6 = df.team___6\n",
    "t7 = df.team___7\n",
    "t8 = df.team___8\n",
    "t9 = df.team___9\n",
    "t10 = df.team___10\n",
    "t11 = df.team___11\n",
    "\n",
    "#join together dummies\n",
    "team = pd.concat([t1, t2, t3, t4, t5, t6, t7, t8, t9, t10, t11], axis=0, sort=False)\n",
    "\n",
    "#remove 'unchecked' values\n",
    "team = team[team!='Unchecked']"
   ]
  },
  {
   "cell_type": "markdown",
   "metadata": {
    "id": "mJ5SbXpHuBvD"
   },
   "source": [
    "### Frequency of Team Members"
   ]
  },
  {
   "cell_type": "markdown",
   "metadata": {
    "id": "UEGaDZaVmqd2"
   },
   "source": [
    "FLAG need to normalize based on total number of cases"
   ]
  },
  {
   "cell_type": "code",
   "execution_count": null,
   "metadata": {
    "cellView": "form",
    "colab": {
     "base_uri": "https://localhost:8080/",
     "height": 394
    },
    "id": "e1LdQ6OEv3WK",
    "outputId": "4834dc7b-6a29-4011-e3cb-b1712f2a5007"
   },
   "outputs": [],
   "source": [
    "#@title\n",
    "t1 = team.value_counts()\n",
    "t2 = team.value_counts()/totalcases\n",
    "t3 = pd.DataFrame(pd.concat([t1,t2], axis=1))\n",
    "t3.columns = ['count','% of all cases']\n",
    "t3"
   ]
  },
  {
   "cell_type": "markdown",
   "metadata": {
    "id": "xdIxKjPSwDU5"
   },
   "source": [
    "### Figure"
   ]
  },
  {
   "cell_type": "code",
   "execution_count": null,
   "metadata": {
    "cellView": "form",
    "colab": {
     "base_uri": "https://localhost:8080/",
     "height": 542
    },
    "id": "p0ZjmmX0wGlk",
    "outputId": "ddd11be1-d371-4650-8006-ea56f88a7a98"
   },
   "outputs": [],
   "source": [
    "#@title\n",
    "#create a series of the value counts\n",
    "team = team.value_counts()\n",
    "\n",
    "#plot the value counts series\n",
    "fig = go.Figure([go.Bar(x=team.index, y=team[0:])])\n",
    "fig.show()"
   ]
  },
  {
   "cell_type": "markdown",
   "metadata": {
    "id": "1HKtijIXcd3c"
   },
   "source": [
    "### Which other team members?"
   ]
  },
  {
   "cell_type": "code",
   "execution_count": null,
   "metadata": {
    "cellView": "form",
    "colab": {
     "base_uri": "https://localhost:8080/"
    },
    "id": "hS6J_0NHcgF8",
    "outputId": "df445895-b2f6-4647-eb84-2ab5236bb469"
   },
   "outputs": [],
   "source": [
    "#@title\n",
    "df.team_other.dropna()"
   ]
  },
  {
   "cell_type": "markdown",
   "metadata": {
    "id": "mO4mgLLe0N9E"
   },
   "source": [
    "# Equipment Check"
   ]
  },
  {
   "cell_type": "markdown",
   "metadata": {
    "id": "kvqfuYiO0QXJ"
   },
   "source": [
    "## Monitoring equipment"
   ]
  },
  {
   "cell_type": "code",
   "execution_count": null,
   "metadata": {
    "cellView": "form",
    "colab": {
     "base_uri": "https://localhost:8080/",
     "height": 708
    },
    "id": "G95FY4UK2yGq",
    "outputId": "4ce74b1c-4341-44c1-f963-b4d2b3df88dc"
   },
   "outputs": [],
   "source": [
    "#@title\n",
    "# replace 'checked' with names of things checked, in main dataframe\n",
    "# note to self: You could do this at the beginning when you open the dataframe\n",
    "df = df.replace({'equipment_monitoring___1':{'Checked':'BP Cuff'}})\n",
    "df = df.replace({'equipment_monitoring___2':{'Checked':'Pulse oximeter'}})\n",
    "df = df.replace({'equipment_monitoring___3':{'Checked':'ECG'}})\n",
    "df = df.replace({'equipment_monitoring___4':{'Checked':'ETCO2'}})\n",
    "df = df.replace({'equipment_airway___1':{'Checked':'Laryngoscope'}})\n",
    "df = df.replace({'equipment_airway___2':{'Checked':'ETT'}})\n",
    "df = df.replace({'equipment_airway___3':{'Checked':'LMA'}})\n",
    "df = df.replace({'equipment_airway___4':{'Checked':'Bougie/stylet'}})\n",
    "df = df.replace({'equipment_airway___5':{'Checked':'Facemask/breathing circuit'}})\n",
    "df = df.replace({'equipment_airway___6':{'Checked':'Suction'}})\n",
    "df = df.replace({'equipment_airway___7':{'Checked':'Ambu-bag'}})\n",
    "df = df.replace({'equipment_drugs___1':{'Checked':'Oxygen'}})\n",
    "df = df.replace({'equipment_drugs___2':{'Checked':'Ketamine'}})\n",
    "df = df.replace({'equipment_drugs___3':{'Checked':'Volatile anesthetic'}})\n",
    "df = df.replace({'equipment_drugs___4':{'Checked':'Pressor/adrenaline'}})\n",
    "df = df.replace({'equipment_drugs___5':{'Checked':'Muscle relaxants'}})\n",
    "df = df.replace({'equipment_drugs___6':{'Checked':'Antibiotics'}})\n",
    "df = df.replace({'equipment_drugs___7':{'Checked':'Uterotonic'}})\n",
    "df = df.replace({'equipment_others___1':{'Checked':'Anesthesia machine'}})\n",
    "df = df.replace({'equipment_others___2':{'Checked':'Operating table with tilt'}})\n",
    "df = df.replace({'equipment_others___3':{'Checked':'IV Fluids'}})\n",
    "df = df.replace({'equipment_others___4':{'Checked':'Blood'}})\n",
    "\n",
    "# create dummy variables for items checked\n",
    "t1 = df.equipment_monitoring___1\n",
    "t2 = df.equipment_monitoring___2\n",
    "t3 = df.equipment_monitoring___3\n",
    "t4 = df.equipment_monitoring___4\n",
    "t5 = df.equipment_airway___1\n",
    "t6 = df.equipment_airway___2\n",
    "t7 = df.equipment_airway___3\n",
    "t8 = df.equipment_airway___4\n",
    "t9 = df.equipment_airway___5\n",
    "t10 = df.equipment_airway___6\n",
    "t11 = df.equipment_airway___7\n",
    "t12 = df.equipment_drugs___1\n",
    "t13 = df.equipment_drugs___2\n",
    "t14 = df.equipment_drugs___3\n",
    "t15 = df.equipment_drugs___4\n",
    "t16 = df.equipment_drugs___5\n",
    "t17 = df.equipment_drugs___6\n",
    "t18 = df.equipment_drugs___7\n",
    "t19 = df.equipment_others___1\n",
    "t20 = df.equipment_others___2\n",
    "t21 = df.equipment_others___3\n",
    "t22 = df.equipment_others___4\n",
    "\n",
    "#glue together the categories of checking items\n",
    "monitoring = pd.concat([t1, t2, t3, t4], axis=0, sort=False)\n",
    "airway = pd.concat([t5, t6, t7, t8, t9, t10, t11], axis=0, sort=False)\n",
    "drugs = pd.concat([t12, t13, t14, t15, t16, t17, t18], axis=0, sort=False)\n",
    "others = pd.concat([t19, t20, t21, t22], axis=0, sort=False)\n",
    "\n",
    "#remove unchecked values\n",
    "monitoring = monitoring[monitoring != 'Unchecked']\n",
    "airway = airway[airway != 'Unchecked']\n",
    "drugs = drugs[drugs != 'Unchecked']\n",
    "others = others[others != 'Unchecked']\n",
    "\n",
    "#Create frequency lists for each cateogry\n",
    "monitoring = monitoring.value_counts()\n",
    "airway = airway.value_counts()\n",
    "drugs = drugs.value_counts()\n",
    "others = others.value_counts()\n",
    "\n",
    "#make dataframes out of the series, so we can add another column\n",
    "monitoring = monitoring.to_frame() \n",
    "airway = airway.to_frame()\n",
    "drugs = drugs.to_frame()\n",
    "others = others.to_frame()\n",
    "\n",
    "#create a column, with the category\n",
    "monitoring['Check what'] = 'Monitoring equipment' \n",
    "airway['Check what'] = 'Airway equipment'\n",
    "drugs['Check what'] = 'Drugs'\n",
    "others['Check what'] = 'Others'\n",
    "\n",
    "#glue together the dataframes, with categories included\n",
    "checked = pd.concat([monitoring, airway, drugs, others], axis=0, sort=False)\n",
    "checked = checked.reset_index() #make the index just numbers\n",
    "\n",
    "checked.columns = ['Item', 'Count', 'Category'] #rename columns\n",
    "checked['percent'] = checked.Count/totalcases\n",
    "checked = checked[['Item', 'Count','percent','Category']]\n",
    "checked\n",
    "#checked['percent'] = checked['Count']/totalcases"
   ]
  },
  {
   "cell_type": "code",
   "execution_count": null,
   "metadata": {
    "cellView": "form",
    "colab": {
     "base_uri": "https://localhost:8080/",
     "height": 542
    },
    "id": "tMw4haqGHc6T",
    "outputId": "cf1d679f-712d-4eec-adbf-cad82e8fbe95"
   },
   "outputs": [],
   "source": [
    "#@title\n",
    "fig = go.Figure()\n",
    "fig.add_trace(go.Bar(x=checked[checked['Category'] == 'Monitoring equipment']['Item'], y=checked[checked['Category'] == 'Monitoring equipment']['Count'], name='Monitoring equipment'))\n",
    "fig.add_trace(go.Bar(x=checked[checked['Category'] == 'Airway equipment']['Item'], y=checked[checked['Category'] == 'Airway equipment']['Count'], name='Airway equipment'))\n",
    "fig.add_trace(go.Bar(x=checked[checked['Category'] == 'Drugs']['Item'], y=checked[checked['Category'] == 'Drugs']['Count'], name='Drugs'))\n",
    "fig.add_trace(go.Bar(x=checked[checked['Category'] == 'Others']['Item'], y=checked[checked['Category'] == 'Others']['Count'], name='Others'))\n",
    "\n",
    "fig.show()"
   ]
  },
  {
   "cell_type": "markdown",
   "metadata": {
    "id": "Wy_yuO69gFDE"
   },
   "source": [
    "## Spinal needle gauge\n"
   ]
  },
  {
   "cell_type": "markdown",
   "metadata": {
    "id": "2uZMeSk2gT1n"
   },
   "source": [
    "# Structured observation"
   ]
  },
  {
   "cell_type": "markdown",
   "metadata": {
    "id": "NxbaYJwQgfHU"
   },
   "source": [
    "## Effective communication"
   ]
  },
  {
   "cell_type": "code",
   "execution_count": null,
   "metadata": {
    "colab": {
     "base_uri": "https://localhost:8080/",
     "height": 269
    },
    "id": "ExzFORMzLw_v",
    "outputId": "92eea5db-9923-4276-f1a1-82dd56122674"
   },
   "outputs": [],
   "source": [
    "commvars = ['comm_consent', 'comm_indication', 'checklist_signin', 'checklist_timeout', 'checklist_signout']\n",
    "commnames = ['Consent', 'Indication', 'Sign-in', 'Time-out', 'Sign-out']\n",
    "\n",
    "#calculate N\n",
    "commN = pd.DataFrame()\n",
    "dfs = []\n",
    "\n",
    "for i in commvars:\n",
    "    t1 = pd.crosstab(df[i],df['phase'], margins=True)\n",
    "    dfs.append(t1)\n",
    "\n",
    "commN = pd.concat(dfs, axis=0, keys=commnames)\n",
    "\n",
    "#calculate percent\n",
    "\n",
    "commPct = pd.DataFrame()\n",
    "dfs = []\n",
    "\n",
    "for i in commvars:\n",
    "    t1 = pd.crosstab(df[i],df['phase'], margins=True, normalize = 'columns')\n",
    "    dfs.append(t1)\n",
    "\n",
    "commPct = pd.concat(dfs, axis=0, keys=commnames)\n",
    "\n",
    "#join tables\n",
    "#Join two tables *together*\n",
    "communication = pd.DataFrame()\n",
    "communication = commN.join(commPct, lsuffix='_n', rsuffix='_%')\n",
    "communication.columns = communication.columns.map(lambda x: tuple(x.split('_')))\n",
    "communication = (communication.sort_index(ascending=[True, False] , axis=1)\n",
    "            .rename_axis(columns=['phase', 'count_pct'], axis=1)\n",
    "       )\n",
    "\n",
    "# set column order\n",
    "communication = communication[['Pre-SAFE', 'Immediately post SAFE', '6 months post SAFE', '12-mo post SAFE','All']]\n",
    "\n",
    "#drop no/all\n",
    "communication = communication.drop(index=['No','All'], level=1)\n",
    "\n",
    "communication"
   ]
  },
  {
   "cell_type": "code",
   "execution_count": null,
   "metadata": {
    "colab": {
     "base_uri": "https://localhost:8080/"
    },
    "id": "9d2EYfkfNYDb",
    "outputId": "d0b71977-d175-46dc-f2d5-b1846f34f427"
   },
   "outputs": [],
   "source": [
    "#communication.to_excel('communicationdescriptives.xls')"
   ]
  },
  {
   "cell_type": "markdown",
   "metadata": {
    "id": "VveiXMc6gigp"
   },
   "source": [
    "### Consent"
   ]
  },
  {
   "cell_type": "code",
   "execution_count": null,
   "metadata": {
    "cellView": "form",
    "colab": {
     "base_uri": "https://localhost:8080/"
    },
    "id": "dNdlRXYxhW1G",
    "outputId": "cd15ecf6-e699-4add-f53d-5a26d1f4db71"
   },
   "outputs": [],
   "source": [
    "#@title\n",
    "t1 = df.comm_consent.value_counts(normalize=True)\n",
    "t1"
   ]
  },
  {
   "cell_type": "code",
   "execution_count": null,
   "metadata": {
    "cellView": "form",
    "colab": {
     "base_uri": "https://localhost:8080/",
     "height": 542
    },
    "id": "MsNY12hBhp31",
    "outputId": "c9c5a8ca-998e-4f84-ffc6-353bad6c69fa"
   },
   "outputs": [],
   "source": [
    "#@title\n",
    "fig = go.Figure([go.Bar(x=t1.index, y=t1[0:])])\n",
    "fig.show()"
   ]
  },
  {
   "cell_type": "markdown",
   "metadata": {
    "id": "y_upTVxbiTin"
   },
   "source": [
    "### Discusses indication"
   ]
  },
  {
   "cell_type": "code",
   "execution_count": null,
   "metadata": {
    "cellView": "form",
    "colab": {
     "base_uri": "https://localhost:8080/"
    },
    "id": "nGVXrZePiagY",
    "outputId": "c9cdcef6-8143-4696-9d68-985a05c26439"
   },
   "outputs": [],
   "source": [
    "#@title\n",
    "t1 = df.comm_indication.value_counts(normalize=True)\n",
    "t1"
   ]
  },
  {
   "cell_type": "code",
   "execution_count": null,
   "metadata": {
    "cellView": "form",
    "colab": {
     "base_uri": "https://localhost:8080/",
     "height": 542
    },
    "id": "TU_VTG0IigS_",
    "outputId": "57efeb15-7bd4-4624-bf93-36c7649fc2bc"
   },
   "outputs": [],
   "source": [
    "#@title\n",
    "fig = go.Figure([go.Bar(x=t1.index, y=t1[0:])])\n",
    "fig.show()"
   ]
  },
  {
   "cell_type": "markdown",
   "metadata": {
    "id": "XW3QWUC1itwy"
   },
   "source": [
    "## WHO Checklist"
   ]
  },
  {
   "cell_type": "code",
   "execution_count": null,
   "metadata": {
    "colab": {
     "base_uri": "https://localhost:8080/",
     "height": 143
    },
    "id": "r7ce0QE2le_U",
    "outputId": "31faffe2-e204-4a77-b3b3-e661dd73337e"
   },
   "outputs": [],
   "source": [
    "#@title\n",
    "t1 = df.checklist_signin.value_counts()/totalcases\n",
    "t2 = df.checklist_timeout.value_counts()/totalcases\n",
    "t3 = df.checklist_signout.value_counts()/totalcases\n",
    "\n",
    "checklist = pd.concat([t1, t2, t3], axis=1, sort=False)\n",
    "checklist.columns = ['Sign in', 'Time out', 'Sign out']\n",
    "checklist=checklist.transpose()\n",
    "checklist"
   ]
  },
  {
   "cell_type": "code",
   "execution_count": null,
   "metadata": {
    "cellView": "form",
    "colab": {
     "base_uri": "https://localhost:8080/",
     "height": 542
    },
    "id": "2GH0Kvvxq5HU",
    "outputId": "924211f4-517a-4945-bfe1-83e411ecad62"
   },
   "outputs": [],
   "source": [
    "#@title\n",
    "fig = go.Figure(data=[\n",
    "  go.Bar(name = 'Yes', x=checklist.index, y=checklist['Yes']),\n",
    "  go.Bar(name = 'No', x=checklist.index, y=checklist['No'])\n",
    "])\n",
    "\n",
    "fig.update_layout(barmode='group')\n",
    "fig.show()"
   ]
  },
  {
   "cell_type": "markdown",
   "metadata": {
    "id": "snooUhl2W3fU"
   },
   "source": [
    "## Preparation"
   ]
  },
  {
   "cell_type": "markdown",
   "metadata": {
    "id": "IBiRrSXTR8sF"
   },
   "source": [
    "### Percent of answers"
   ]
  },
  {
   "cell_type": "code",
   "execution_count": null,
   "metadata": {
    "id": "yL_HcPPMO5vK"
   },
   "outputs": [],
   "source": [
    "preplist = ['prep_preop', 'prep_hb', 'prep_machine', 'prep_gadrugs',\n",
    "'prep_airwaychecked', 'prep_suction' ,'prep_vasopressor',\n",
    "'prep_neonatal' ,'prep_ivaccess','prep_fluids']\n",
    "\n",
    "prepnames = ['Pre-operative anesthetic assessment', 'Checks recent Hb level', 'Anesthetic machine checked', 'Availability of GA drugs checked', \n",
    "             'Airway equipment available checked', 'Suction present & working', \n",
    "             'Vasopressor present', 'Neonatal resuscitation equipment available', 'Obtains IV access',\n",
    "             'Attaches running fluids']"
   ]
  },
  {
   "cell_type": "code",
   "execution_count": null,
   "metadata": {
    "colab": {
     "base_uri": "https://localhost:8080/",
     "height": 394
    },
    "id": "2i53ZuB0PmT-",
    "outputId": "c20bd560-2127-4616-a820-39cd265415a4"
   },
   "outputs": [],
   "source": [
    "#calculate N\n",
    "prepN = pd.DataFrame()\n",
    "dfs = []\n",
    "\n",
    "for i in preplist:\n",
    "    t1 = pd.crosstab(df[i],df['phase'], margins=True)\n",
    "    dfs.append(t1)\n",
    "\n",
    "prepN = pd.concat(dfs, axis=0, keys=prepnames)\n",
    "\n",
    "#calculate percent\n",
    "\n",
    "prepPct = pd.DataFrame()\n",
    "dfs = []\n",
    "\n",
    "for i in preplist:\n",
    "    t1 = pd.crosstab(df[i],df['phase'], margins=True, normalize = 'columns')\n",
    "    dfs.append(t1)\n",
    "\n",
    "prepPct = pd.concat(dfs, axis=0, keys=prepnames)\n",
    "\n",
    "#join tables\n",
    "#Join two tables *together*\n",
    "prep = pd.DataFrame()\n",
    "prep = prepN.join(prepPct, lsuffix='_n', rsuffix='_%')\n",
    "prep.columns = prep.columns.map(lambda x: tuple(x.split('_')))\n",
    "prep = (prep.sort_index(ascending=[True, False] , axis=1)\n",
    "            .rename_axis(columns=['phase', 'count_pct'], axis=1)\n",
    "       )\n",
    "\n",
    "# set column order\n",
    "prep = prep[['Pre-SAFE', 'Immediately post SAFE', '6 months post SAFE', '12-mo post SAFE','All']]\n",
    "\n",
    "#drop no/all\n",
    "prep = prep.drop(index=['No','All'], level=1)\n",
    "\n",
    "prep"
   ]
  },
  {
   "cell_type": "code",
   "execution_count": null,
   "metadata": {
    "colab": {
     "base_uri": "https://localhost:8080/"
    },
    "id": "d5NeB_M3QRlU",
    "outputId": "c3000400-662d-4f12-8163-33e5385f85b8"
   },
   "outputs": [],
   "source": [
    "#prep.to_excel('prepdescriptives.xls')"
   ]
  },
  {
   "cell_type": "markdown",
   "metadata": {
    "id": "Kg-BQDurZmLl"
   },
   "source": [
    "### What preop assessment was done?"
   ]
  },
  {
   "cell_type": "code",
   "execution_count": null,
   "metadata": {
    "cellView": "form",
    "colab": {
     "base_uri": "https://localhost:8080/"
    },
    "id": "HJTdYY-paR47",
    "outputId": "b4b86b7e-b0a9-481f-b730-388d18a84c3a"
   },
   "outputs": [],
   "source": [
    "#@title\n",
    "# replace 'checked' with which anesthetic assessments were done in main dataframe\n",
    "# note to self: You could do this at the beginning when you open the dataframe\n",
    "df = df.replace({'prep_preop_parts___1':{'Checked':'Airway exam'}})\n",
    "df = df.replace({'prep_preop_parts___2':{'Checked':'CVS/Resp exam'}})\n",
    "df = df.replace({'prep_preop_parts___3':{'Checked':'Co-morbidities'}})\n",
    "df = df.replace({'prep_preop_parts___4':{'Checked':'Allergies'}})\n",
    "\n",
    "# create dummy variables for team members\n",
    "t1 = df.prep_preop_parts___1\n",
    "t2 = df.prep_preop_parts___2\n",
    "t3 = df.prep_preop_parts___3\n",
    "t4 = df.prep_preop_parts___4\n",
    "\n",
    "#join together dummies\n",
    "prep_preop = pd.concat([t1, t2, t3, t4], axis=0, sort=False)\n",
    "\n",
    "#remove 'unchecked' values\n",
    "prep_preop = prep_preop[prep_preop!='Unchecked']\n",
    "prep_preop.value_counts()"
   ]
  },
  {
   "cell_type": "code",
   "execution_count": null,
   "metadata": {
    "colab": {
     "base_uri": "https://localhost:8080/"
    },
    "id": "XlTpzevx6IZU",
    "outputId": "121e9cc5-39cd-40e0-d2c7-f2636937f3d2"
   },
   "outputs": [],
   "source": [
    "prep_preop.value_counts(normalize=True)"
   ]
  },
  {
   "cell_type": "markdown",
   "metadata": {
    "id": "Qwm5q5DzlNaU"
   },
   "source": [
    "### What machine checks were done?"
   ]
  },
  {
   "cell_type": "code",
   "execution_count": null,
   "metadata": {
    "cellView": "form",
    "colab": {
     "base_uri": "https://localhost:8080/"
    },
    "id": "m5zhBXemlbuQ",
    "outputId": "af84e441-279e-40ba-bf66-51808fcf69d2"
   },
   "outputs": [],
   "source": [
    "#@title\n",
    "# replace 'checked' with which parts of the machine were checked, in main dataframe\n",
    "# note to self: You could do this at the beginning when you open the dataframe\n",
    "df = df.replace({'prep_machine_parts___1':{'Checked':'Adequate O2 supply'}})\n",
    "df = df.replace({'prep_machine_parts___2':{'Checked':'Working breathing circuit (pressure/leak test)'}})\n",
    "\n",
    "# create dummy variables for team members\n",
    "t1 = df.prep_machine_parts___1\n",
    "t2 = df.prep_machine_parts___2\n",
    "\n",
    "#join together dummies\n",
    "prep_machine = pd.concat([t1, t2], axis=0, sort=False)\n",
    "\n",
    "#remove 'unchecked' values\n",
    "prep_machine = prep_machine[prep_machine!='Unchecked']\n",
    "prep_machine.value_counts()"
   ]
  },
  {
   "cell_type": "markdown",
   "metadata": {
    "id": "F46b3e6fQJZC"
   },
   "source": [
    "### What airway equipment was checked"
   ]
  },
  {
   "cell_type": "code",
   "execution_count": null,
   "metadata": {
    "cellView": "form",
    "colab": {
     "base_uri": "https://localhost:8080/"
    },
    "id": "2k3v25XYQObx",
    "outputId": "8135b7d7-348a-46b3-facf-3a03f58571c1"
   },
   "outputs": [],
   "source": [
    "#@title\n",
    "# replace 'checked' with which airway checkes were done in main dataframe\n",
    "# note to self: You could do this at the beginning when you open the dataframe\n",
    "df = df.replace({'prep_airwaychecked_which___1':{'Checked':'Laryngoscope with light'}})\n",
    "df = df.replace({'prep_airwaychecked_which___2':{'Checked':'ETT with cuff'}})\n",
    "\n",
    "# create dummy variables for team members\n",
    "t1 = df.prep_airwaychecked_which___1\n",
    "t2 = df.prep_airwaychecked_which___2\n",
    "\n",
    "#join together dummies\n",
    "prep_airway = pd.concat([t1, t2], axis=0, sort=False)\n",
    "\n",
    "#remove 'unchecked' values\n",
    "prep_airway = prep_airway[prep_airway!='Unchecked']\n",
    "prep_airway.value_counts()"
   ]
  },
  {
   "cell_type": "markdown",
   "metadata": {
    "id": "MIKhW8yKlYFu"
   },
   "source": [
    "### What vasopressors were available?"
   ]
  },
  {
   "cell_type": "code",
   "execution_count": null,
   "metadata": {
    "cellView": "form",
    "colab": {
     "base_uri": "https://localhost:8080/"
    },
    "id": "9gCoZ0hpRo70",
    "outputId": "ef47df61-1c63-4748-e31f-b3506e11fd08"
   },
   "outputs": [],
   "source": [
    "#@title\n",
    "# replace 'checked' with which vasopressors were available, in main dataframe\n",
    "# note to self: You could do this at the beginning when you open the dataframe\n",
    "df = df.replace({'prep_vasopressor_parts___1':{'Checked':'Adrenaline'}})\n",
    "df = df.replace({'prep_vasopressor_parts___2':{'Checked':'Ephedrine'}})\n",
    "df = df.replace({'prep_vasopressor_parts___3':{'Checked':'Phenylephrine'}})\n",
    "df = df.replace({'prep_vasopressor_parts___4':{'Checked':'Metaraminol'}})\n",
    "\n",
    "# create dummy variables for team members\n",
    "t1 = df.prep_vasopressor_parts___1\n",
    "t2 = df.prep_vasopressor_parts___2\n",
    "t3 = df.prep_vasopressor_parts___3\n",
    "t4 = df.prep_vasopressor_parts___4\n",
    "\n",
    "#join together dummies\n",
    "prep_vasopressor = pd.concat([t1, t2, t3, t4], axis=0, sort=False)\n",
    "\n",
    "#remove 'unchecked' values\n",
    "prep_vasopressor = prep_vasopressor[prep_vasopressor!='Unchecked']\n",
    "prep_vasopressor.value_counts()"
   ]
  },
  {
   "cell_type": "markdown",
   "metadata": {
    "id": "FSOIOR9Me9MO"
   },
   "source": [
    "### What neonatal equipment was available?"
   ]
  },
  {
   "cell_type": "code",
   "execution_count": null,
   "metadata": {
    "cellView": "form",
    "colab": {
     "base_uri": "https://localhost:8080/"
    },
    "id": "gUNdzJVke8jJ",
    "outputId": "a7f3e266-83b7-4330-bf4c-6592f546c224"
   },
   "outputs": [],
   "source": [
    "#@title\n",
    "# replace 'checked' with which neonatal equipment was available, in main dataframe\n",
    "# note to self: You could do this at the beginning when you open the dataframe\n",
    "df = df.replace({'prep_neonatal_which___1':{'Checked':'Ambu-bag'}})\n",
    "df = df.replace({'prep_neonatal_which___2':{'Checked':'Mask'}})\n",
    "df = df.replace({'prep_neonatal_which___3':{'Checked':'Towel/blanket'}})\n",
    "df = df.replace({'prep_neonatal_which___4':{'Checked':'Warmer'}})\n",
    "df = df.replace({'prep_neonatal_which___5':{'Checked':'Oxygen'}})\n",
    "\n",
    "# create dummy variables for team members\n",
    "t1 = df.prep_neonatal_which___1\n",
    "t2 = df.prep_neonatal_which___2\n",
    "t3 = df.prep_neonatal_which___3\n",
    "t4 = df.prep_neonatal_which___4\n",
    "t5 = df.prep_neonatal_which___5\n",
    "\n",
    "#join together dummies\n",
    "prep_neonatal = pd.concat([t1, t2, t3, t4, t5], axis=0, sort=False)\n",
    "\n",
    "#remove 'unchecked' values\n",
    "prep_neonatal = prep_neonatal[prep_neonatal!='Unchecked']\n",
    "prep_neonatal.value_counts()"
   ]
  },
  {
   "cell_type": "markdown",
   "metadata": {
    "id": "SU3hp9sJg_3L"
   },
   "source": [
    "# Outcomes"
   ]
  },
  {
   "cell_type": "markdown",
   "metadata": {
    "id": "h9fRVdAjhBv0"
   },
   "source": [
    "## Apgars"
   ]
  },
  {
   "cell_type": "code",
   "execution_count": null,
   "metadata": {
    "cellView": "form",
    "colab": {
     "base_uri": "https://localhost:8080/",
     "height": 542
    },
    "id": "aVyN0oErhDIA",
    "outputId": "9d642546-cd42-4740-d2cb-c12d38f446ff"
   },
   "outputs": [],
   "source": [
    "#@title\n",
    "fig = go.Figure()\n",
    "fig.add_trace(go.Box(y=df['apgar1'], name='1-minute Apgar', boxpoints='all'))\n",
    "fig.add_trace(go.Box(y=df['apgar5'], name = '5-minute Apgar', boxpoints='all'))\n",
    "\n",
    "fig.show()"
   ]
  },
  {
   "cell_type": "markdown",
   "metadata": {
    "id": "kPEXrnKGkV5m"
   },
   "source": [
    "## Hospital outcome"
   ]
  },
  {
   "cell_type": "code",
   "execution_count": null,
   "metadata": {
    "cellView": "form",
    "colab": {
     "base_uri": "https://localhost:8080/",
     "height": 143
    },
    "id": "DBPvgb4xkVho",
    "outputId": "e7c3a3b2-4ef3-426a-f69b-e376f20700f3"
   },
   "outputs": [],
   "source": [
    "#@title\n",
    "t1 = df.final_ordeath.value_counts()\n",
    "t2 = df.final_hospitaldeath.value_counts()\n",
    "t3 = df.final_pttransfer.value_counts()\n",
    "\n",
    "final = pd.concat([t1, t2, t3], axis=1, sort=False)\n",
    "final.columns = ['OR death', 'Hospital death', 'Patient transfer']\n",
    "final=final.transpose()\n",
    "final"
   ]
  },
  {
   "cell_type": "code",
   "execution_count": null,
   "metadata": {
    "cellView": "form",
    "colab": {
     "base_uri": "https://localhost:8080/",
     "height": 542
    },
    "id": "2PjB3WSukwot",
    "outputId": "a76465df-2acc-4496-d3ad-53b6666d09ca"
   },
   "outputs": [],
   "source": [
    "#@title\n",
    "fig = go.Figure(data=[\n",
    "  #go.Bar(name = 'Yes', x=final.index, y=final['Yes']),\n",
    "  go.Bar(name = 'No', x=final.index, y=final['No'])\n",
    "])\n",
    "\n",
    "fig.update_layout(barmode='group')\n",
    "fig.show()"
   ]
  },
  {
   "cell_type": "markdown",
   "metadata": {
    "id": "G7pQHAUXdYbB"
   },
   "source": [
    "\n",
    "\n",
    "---\n",
    "\n",
    "\n",
    "# Spinal Packet"
   ]
  },
  {
   "cell_type": "markdown",
   "metadata": {
    "id": "n5OMz2m9dbaO"
   },
   "source": [
    "What spinal drug was used?"
   ]
  },
  {
   "cell_type": "code",
   "execution_count": null,
   "metadata": {
    "colab": {
     "base_uri": "https://localhost:8080/"
    },
    "id": "hxgf5Y2odh5y",
    "outputId": "7d93e2e8-a48b-4a7b-8c17-4410db2b6f70"
   },
   "outputs": [],
   "source": [
    "#@title\n",
    "df.spinal_drug.value_counts(normalize=False)"
   ]
  },
  {
   "cell_type": "markdown",
   "metadata": {
    "id": "SE5RzLfwdsN4"
   },
   "source": [
    "What dose was in the spinal? ***FLAG*** Need to combine with drug type"
   ]
  },
  {
   "cell_type": "markdown",
   "metadata": {
    "id": "KwpD9u4zsLbv"
   },
   "source": [
    "## Dosages of bupivicaine 0.5%\n"
   ]
  },
  {
   "cell_type": "code",
   "execution_count": null,
   "metadata": {
    "colab": {
     "base_uri": "https://localhost:8080/",
     "height": 542
    },
    "id": "akrl6DOYpKqk",
    "outputId": "926ea8c4-7709-4862-9f94-e8ae817d75ad"
   },
   "outputs": [],
   "source": [
    "#@title\n",
    "df.spinal_dose.dropna()\n",
    "bupidose = df['spinal_dose'].loc[df['spinal_drug'] == 'Bupivicaine - 0.5%']\n",
    "\n",
    "#@title\n",
    "fig = go.Figure(data=[\n",
    "  go.Histogram(x=bupidose),\n",
    "])\n",
    "\n",
    "fig.show()"
   ]
  },
  {
   "cell_type": "markdown",
   "metadata": {
    "id": "WfMxf5JweVQh"
   },
   "source": [
    "What adjuncts were used?\n"
   ]
  },
  {
   "cell_type": "code",
   "execution_count": null,
   "metadata": {
    "id": "VJgyNWI2ewth"
   },
   "outputs": [],
   "source": [
    "#@title\n",
    "# replace 'checked' with which adjuncts were used in main dataframe\n",
    "# note to self: You could do this at the beginning when you open the dataframe\n",
    "df = df.replace({'spinal_adjunct___1':{'Checked':'Opioid'}})\n",
    "df = df.replace({'spinal_adjunct___2':{'Checked':'Dextrose'}})\n",
    "\n",
    "# create dummy variables for indication\n",
    "t1 = df.spinal_adjunct___1\n",
    "t2 = df.spinal_adjunct___2\n",
    "\n",
    "#join together dummies\n",
    "adjunct = pd.concat([t1, t2], axis=0, sort=False)\n",
    "\n",
    "#remove 'unchecked' values\n",
    "adjunct = adjunct[adjunct!=\"Unchecked\"]"
   ]
  },
  {
   "cell_type": "code",
   "execution_count": null,
   "metadata": {
    "colab": {
     "base_uri": "https://localhost:8080/"
    },
    "id": "GIK3p2dtfoTR",
    "outputId": "7052ec7c-0d16-4627-917f-ce83dfe2143e"
   },
   "outputs": [],
   "source": [
    "#@title\n",
    "adjunct.value_counts()"
   ]
  },
  {
   "cell_type": "markdown",
   "metadata": {
    "id": "0bE1qfYufvgT"
   },
   "source": [
    "## Spinal behaviour"
   ]
  },
  {
   "cell_type": "code",
   "execution_count": null,
   "metadata": {
    "id": "nVXsYYPzq1BG"
   },
   "outputs": [],
   "source": [
    "#list of spinal variables\n",
    "spinalvars = ['spinal_hat','spinal_mask','spinal_gloves','spinal_clean',\n",
    "               'spinal_sterile', 'spinal_wedge', 'spinal_vitals','spinal_height',\n",
    "               'spinal_vasopressor','spinal_abx','spinal_oxytocin','spinal_oxytocintime',\n",
    "               'spinal_present']"
   ]
  },
  {
   "cell_type": "markdown",
   "metadata": {
    "id": "mi8if7dDv0fi"
   },
   "source": [
    "Crosstab all spinal variables with count"
   ]
  },
  {
   "cell_type": "code",
   "execution_count": null,
   "metadata": {
    "id": "-eYYLib_rENr"
   },
   "outputs": [],
   "source": [
    "# Crosstab all spinal variables with count\n",
    "spinaldata = pd.DataFrame()\n",
    "dfs = []\n",
    "\n",
    "for i in spinalvars:\n",
    "    t1 = pd.crosstab(df[i], df['phase'], margins=True)\n",
    "    dfs.append(t1)\n",
    "\n",
    "spinaldata = pd.concat(dfs, axis=0, keys=spinalvars)\n",
    "\n",
    "# Crosstab all variables with percent\n",
    "spinaldatapct = pd.DataFrame()\n",
    "dfs = []\n",
    "\n",
    "for i in spinalvars:\n",
    "    t1 = pd.crosstab(df[i], df['phase'], margins=True, normalize='columns')\n",
    "    dfs.append(t1)\n",
    "\n",
    "spinaldatapct = pd.concat(dfs, axis=0, keys=spinalvars)\n",
    "\n",
    "#Join two tables *together*\n",
    "spinalfinaldata = pd.DataFrame()\n",
    "spinalfinaldata = spinaldata.join(spinaldatapct, lsuffix='_n', rsuffix='_%')\n",
    "spinalfinaldata.columns = spinalfinaldata.columns.map(lambda x: tuple(x.split('_')))\n",
    "spinalfinaldata = (spinalfinaldata.sort_index(ascending=[True, False] , axis=1)\n",
    "            .rename_axis(columns=['phase', 'count_pct'], axis=1)\n",
    "       )\n",
    "\n",
    "# set column order\n",
    "spinalfinaldata = spinalfinaldata[['Pre-SAFE', 'Immediately post SAFE', '6 months post SAFE', '12-mo post SAFE','All']]"
   ]
  },
  {
   "cell_type": "code",
   "execution_count": null,
   "metadata": {
    "colab": {
     "base_uri": "https://localhost:8080/",
     "height": 488
    },
    "id": "5_QGPUCJvljd",
    "outputId": "044f0de5-eda4-4e0d-abb3-f1531e74d8a6"
   },
   "outputs": [],
   "source": [
    "spinalfinaldata = spinalfinaldata.round(2).fillna('1.0')\n",
    "spinalfinaldata = spinalfinaldata.drop(index=['No','All'], level=1)\n",
    "spinalfinaldata.sort_values([('All','%')], ascending=False)\n"
   ]
  },
  {
   "cell_type": "code",
   "execution_count": null,
   "metadata": {
    "colab": {
     "base_uri": "https://localhost:8080/"
    },
    "id": "4jm-2HN_zmT0",
    "outputId": "24b15083-a7bd-4094-c7af-1cfb11726dce"
   },
   "outputs": [],
   "source": [
    "#spinalfinaldata.to_excel('spinaldescriptives.xls')"
   ]
  },
  {
   "cell_type": "code",
   "execution_count": null,
   "metadata": {
    "colab": {
     "base_uri": "https://localhost:8080/",
     "height": 457
    },
    "id": "cDs_7tu3lwjd",
    "outputId": "64cfc6c5-ca90-4b7f-a20b-5b6bc6db4313"
   },
   "outputs": [],
   "source": [
    "t1 = spinaldatapct.drop(index=['No'], level=1)\n",
    "t1.reset_index()\n",
    "#t1.drop(['phase'], axis=1)\n",
    "#df.drop(['Q', 'R'], axis=1)"
   ]
  },
  {
   "cell_type": "markdown",
   "metadata": {
    "id": "KvBZLsVXj1JM"
   },
   "source": [
    "### What vital signs were monitored?"
   ]
  },
  {
   "cell_type": "code",
   "execution_count": null,
   "metadata": {
    "cellView": "form",
    "id": "r4tO82Scj4aw"
   },
   "outputs": [],
   "source": [
    "#@title\n",
    "# replace 'checked' with which vital signs were monitored were used in main dataframe\n",
    "# note to self: You could do this at the beginning when you open the dataframe\n",
    "df = df.replace({'spinal_vitals_which___1':{'Checked':'BP every 5 min'}})\n",
    "df = df.replace({'spinal_vitals_which___2':{'Checked':'HR every 5 min'}})\n",
    "df = df.replace({'spinal_vitals_which___3':{'Checked':'Continuous SpO2'}})\n",
    "\n",
    "# create dummy variables for indication\n",
    "t1 = df.spinal_vitals_which___1\n",
    "t2 = df.spinal_vitals_which___2\n",
    "t3 = df.spinal_vitals_which___3\n",
    "\n",
    "#join together dummies\n",
    "spinal_vitals = pd.concat([t1, t2, t3], axis=0, sort=False)\n",
    "\n",
    "#remove 'unchecked' values\n",
    "spinal_vitals = spinal_vitals[spinal_vitals!=\"Unchecked\"]"
   ]
  },
  {
   "cell_type": "markdown",
   "metadata": {
    "id": "EKUWMBq_mXzY"
   },
   "source": [
    "***FLAG*** = need to normalize the following, where the denominator is # of cases"
   ]
  },
  {
   "cell_type": "code",
   "execution_count": null,
   "metadata": {
    "cellView": "form",
    "id": "qMdjU93bkvWA"
   },
   "outputs": [],
   "source": [
    "#@title\n",
    "t1 = spinal_vitals.value_counts()\n",
    "t1"
   ]
  },
  {
   "cell_type": "code",
   "execution_count": null,
   "metadata": {
    "cellView": "form",
    "id": "l1vHFLJKp2dM"
   },
   "outputs": [],
   "source": [
    "#@title\n",
    "fig = go.Figure([go.Bar(x=t1.index, y=t1[0:])])\n",
    "fig.show()"
   ]
  },
  {
   "cell_type": "markdown",
   "metadata": {
    "id": "Of_r9_BrperU"
   },
   "source": [
    "### Oxytocin dose"
   ]
  },
  {
   "cell_type": "code",
   "execution_count": null,
   "metadata": {
    "cellView": "form",
    "id": "m5rt0L7jpi9I"
   },
   "outputs": [],
   "source": [
    "#@title\n",
    "t1 = df.spinal_oxytocin_dose.value_counts(normalize=True)\n",
    "t1"
   ]
  },
  {
   "cell_type": "code",
   "execution_count": null,
   "metadata": {
    "cellView": "form",
    "id": "vkueBXI3qFJm"
   },
   "outputs": [],
   "source": [
    "#@title\n",
    "fig = go.Figure([go.Bar(x=t1.index, y=t1[0:])])\n",
    "fig.show()"
   ]
  },
  {
   "cell_type": "markdown",
   "metadata": {
    "id": "IxeE3wMspg3u"
   },
   "source": [
    "### Oxytocin method"
   ]
  },
  {
   "cell_type": "code",
   "execution_count": null,
   "metadata": {
    "cellView": "form",
    "id": "svvGv4ncpoJm"
   },
   "outputs": [],
   "source": [
    "#@title\n",
    "t1 = df.spinal_oxytocin_how.value_counts(normalize=True)\n",
    "t1"
   ]
  },
  {
   "cell_type": "code",
   "execution_count": null,
   "metadata": {
    "cellView": "form",
    "id": "adIc1N22qSm_"
   },
   "outputs": [],
   "source": [
    "#@title\n",
    "fig = go.Figure([go.Bar(x=t1.index, y=t1[0:])])\n",
    "fig.show()"
   ]
  },
  {
   "cell_type": "markdown",
   "metadata": {
    "id": "JbS4HF6Ej3vy"
   },
   "source": [
    "## Adverse events"
   ]
  },
  {
   "cell_type": "code",
   "execution_count": null,
   "metadata": {
    "cellView": "form",
    "id": "TnG6teQbpNNE"
   },
   "outputs": [],
   "source": [
    "#@title\n",
    "t1 = df.adverse_failed_spinal.value_counts(normalize=True)\n",
    "t2 = df.adverse_loc.value_counts(normalize=True)\n",
    "t3 = df.adverse_hypoxia.value_counts(normalize=True)\n",
    "t4 = df.adverse_persistent_hypo.value_counts(normalize=True)\n",
    "t5 = df.adverse_major_hemorrhage.value_counts(normalize=True)\n",
    "\n",
    "adverse = pd.concat([t1, t2, t3, t4, t5], axis=1, sort=False)\n",
    "adverse.columns = ['Failed spinal', 'Loss of consciousness', 'Hypoxia', 'Persistent hypotension', 'Major hemorrhage']\n",
    "adverse = adverse.transpose()\n",
    "adverse"
   ]
  },
  {
   "cell_type": "code",
   "execution_count": null,
   "metadata": {
    "cellView": "form",
    "id": "qgYAYRgCq4CT"
   },
   "outputs": [],
   "source": [
    "#@title\n",
    "fig = go.Figure(data=[\n",
    "  go.Bar(name = 'Yes', x=adverse.index, y=adverse['Yes']),\n",
    "  go.Bar(name = 'No', x=adverse.index, y=adverse['No'])\n",
    "])\n",
    "\n",
    "fig.update_layout(barmode='group')\n",
    "fig.show()"
   ]
  },
  {
   "cell_type": "markdown",
   "metadata": {
    "id": "EGFsU0no0Fbj"
   },
   "source": [
    "### What was the response to failed spinal?"
   ]
  },
  {
   "cell_type": "code",
   "execution_count": null,
   "metadata": {
    "cellView": "form",
    "id": "EW89AqPX0JcB"
   },
   "outputs": [],
   "source": [
    "#@title\n",
    "# replace 'checked' with the response to failed spinal, in main dataframe\n",
    "# note to self: You could do this at the beginning when you open the dataframe\n",
    "df = df.replace({'adverse_spinal_failed_y___1':{'Checked':'Convert to GA'}})\n",
    "df = df.replace({'adverse_spinal_failed_y___2':{'Checked':'Ketamine sedation without intubation'}})\n",
    "\n",
    "# create dummy variables for indication\n",
    "t1 = df.adverse_spinal_failed_y___1\n",
    "t2 = df.adverse_spinal_failed_y___2\n",
    "\n",
    "#join together dummies\n",
    "adverse_spinal = pd.concat([t1, t2], axis=0, sort=False)\n",
    "\n",
    "#remove 'unchecked' values\n",
    "adverse_spinal = adverse_spinal[adverse_spinal!=\"Unchecked\"]"
   ]
  },
  {
   "cell_type": "markdown",
   "metadata": {
    "id": "RfrBDOlGtnJd"
   },
   "source": [
    "Number of failed spinals"
   ]
  },
  {
   "cell_type": "code",
   "execution_count": null,
   "metadata": {
    "cellView": "form",
    "id": "FpWzcfqctqHb"
   },
   "outputs": [],
   "source": [
    "#@title\n",
    "failed_spinals = df.adverse_failed_spinal.value_counts()\n",
    "failed_spinals['Yes']"
   ]
  },
  {
   "cell_type": "markdown",
   "metadata": {
    "id": "l099dK9buoVr"
   },
   "source": [
    "Response to failed spinals (counts)"
   ]
  },
  {
   "cell_type": "code",
   "execution_count": null,
   "metadata": {
    "cellView": "form",
    "id": "ka3Gl0_VsoCc"
   },
   "outputs": [],
   "source": [
    "#@title\n",
    "adverse_spinal.value_counts()"
   ]
  },
  {
   "cell_type": "markdown",
   "metadata": {
    "id": "MLmQnq8kuscl"
   },
   "source": [
    "Response to failed spinals (as percent of failed spinals)\n",
    "\n",
    "NB currently no Convert to GA. will have to update this if there are some conversions to GA."
   ]
  },
  {
   "cell_type": "code",
   "execution_count": null,
   "metadata": {
    "cellView": "form",
    "id": "G2ObinB7ot5m"
   },
   "outputs": [],
   "source": [
    "#@title\n",
    "t1 = adverse_spinal.value_counts()\n",
    "print('% Ketamine sedation without intubation: ', t1['Ketamine sedation without intubation']/failed_spinals['Yes'])"
   ]
  },
  {
   "cell_type": "markdown",
   "metadata": {
    "id": "IfRc-7b-zt4p"
   },
   "source": [
    "### How much drop in BP?"
   ]
  },
  {
   "cell_type": "code",
   "execution_count": null,
   "metadata": {
    "cellView": "form",
    "id": "qzbgEhw_zwg7"
   },
   "outputs": [],
   "source": [
    "#@title\n",
    "# replace 'checked' the reason for bp treatment, in main dataframe\n",
    "# note to self: You could do this at the beginning when you open the dataframe\n",
    "df = df.replace({'adverse_hypo_which___1':{'Checked':'>20% drop'}})\n",
    "df = df.replace({'adverse_hypo_which___2':{'Checked':'<70mmhg'}})\n",
    "\n",
    "# create dummy variables for indication\n",
    "t1 = df.adverse_hypo_which___1\n",
    "t2 = df.adverse_hypo_which___2\n",
    "\n",
    "#join together dummies\n",
    "bpdrop = pd.concat([t1, t2], axis=0, sort=False)\n",
    "\n",
    "#remove 'unchecked' values\n",
    "bpdrop = bpdrop[bpdrop!=\"Unchecked\"]"
   ]
  },
  {
   "cell_type": "code",
   "execution_count": null,
   "metadata": {
    "cellView": "form",
    "id": "BXQD3n960IBk"
   },
   "outputs": [],
   "source": [
    "#@title\n",
    "bpdrop.value_counts()"
   ]
  },
  {
   "cell_type": "markdown",
   "metadata": {
    "id": "x_oxRliP0qYs"
   },
   "source": [
    "## End of Case: spinal"
   ]
  },
  {
   "cell_type": "markdown",
   "metadata": {
    "id": "Ogr_Zcz11Xf2"
   },
   "source": [
    "### Place of recovery?"
   ]
  },
  {
   "cell_type": "code",
   "execution_count": null,
   "metadata": {
    "cellView": "form",
    "id": "qoKymqss0oWE"
   },
   "outputs": [],
   "source": [
    "#@title\n",
    "t1 = df.spinal_end_where.value_counts(normalize=True)\n",
    "t1"
   ]
  },
  {
   "cell_type": "code",
   "execution_count": null,
   "metadata": {
    "cellView": "form",
    "id": "2ZfXI7CK1G0T"
   },
   "outputs": [],
   "source": [
    "#@title\n",
    "fig = go.Figure([go.Bar(x=t1.index, y=t1[0:])])\n",
    "fig.show()"
   ]
  },
  {
   "cell_type": "markdown",
   "metadata": {
    "id": "zrQfP5dZ1aLb"
   },
   "source": [
    "### Dedicated recovery staff?"
   ]
  },
  {
   "cell_type": "code",
   "execution_count": null,
   "metadata": {
    "cellView": "form",
    "id": "FY6LXnwG02Mu"
   },
   "outputs": [],
   "source": [
    "#@title\n",
    "t1 = df.spinal_end_who.value_counts(normalize=True)\n",
    "t1"
   ]
  },
  {
   "cell_type": "code",
   "execution_count": null,
   "metadata": {
    "cellView": "form",
    "id": "XSlUW9kZ1QnY"
   },
   "outputs": [],
   "source": [
    "#@title\n",
    "fig = go.Figure([go.Bar(x=t1.index, y=t1[0:])])\n",
    "fig.show()"
   ]
  },
  {
   "cell_type": "markdown",
   "metadata": {
    "id": "o7LLNO171jz1"
   },
   "source": [
    "### Recovery monitors"
   ]
  },
  {
   "cell_type": "code",
   "execution_count": null,
   "metadata": {
    "cellView": "form",
    "id": "BQ8fSQsK1lmW"
   },
   "outputs": [],
   "source": [
    "#@title\n",
    "# replace 'checked' what recovery monitors were used, in main dataframe\n",
    "# note to self: You could do this at the beginning when you open the dataframe\n",
    "df = df.replace({'spinal_end_monitors___1':{'Checked':'BP'}})\n",
    "df = df.replace({'spinal_end_monitors___2':{'Checked':'SpO2'}})\n",
    "df = df.replace({'spinal_end_monitors___3':{'Checked':'HR'}})\n",
    "\n",
    "# create dummy variables for indication\n",
    "t1 = df.spinal_end_monitors___1\n",
    "t2 = df.spinal_end_monitors___2\n",
    "t3 = df.spinal_end_monitors___3\n",
    "\n",
    "#join together dummies\n",
    "spinal_end_monitors_which = pd.concat([t1, t2, t3], axis=0, sort=False)\n",
    "\n",
    "#remove 'unchecked' values\n",
    "spinal_end_monitors_which = spinal_end_monitors_which[spinal_end_monitors_which!=\"Unchecked\"]"
   ]
  },
  {
   "cell_type": "markdown",
   "metadata": {
    "id": "cPUwiNuJ2ISp"
   },
   "source": [
    "FLAG need again to normalize to total number of cases, this is pure count"
   ]
  },
  {
   "cell_type": "code",
   "execution_count": null,
   "metadata": {
    "cellView": "form",
    "id": "IdozRxDv2Afl"
   },
   "outputs": [],
   "source": [
    "#@title\n",
    "spinal_end_monitors_which.value_counts()"
   ]
  },
  {
   "cell_type": "markdown",
   "metadata": {
    "id": "yYSHSxka2OVI"
   },
   "source": [
    "### Unstructured spinal observation"
   ]
  },
  {
   "cell_type": "code",
   "execution_count": null,
   "metadata": {
    "cellView": "form",
    "id": "VauVlKJc2N4X"
   },
   "outputs": [],
   "source": [
    "#@title\n",
    "df.spinal_unstructured.dropna()"
   ]
  },
  {
   "cell_type": "markdown",
   "metadata": {
    "id": "i6lfSpt1nfAD"
   },
   "source": [
    "# General anesthesia packet"
   ]
  },
  {
   "cell_type": "markdown",
   "metadata": {
    "id": "fe_p_yjxnw-P"
   },
   "source": [
    "## GA Behavior"
   ]
  },
  {
   "cell_type": "code",
   "execution_count": 6,
   "metadata": {
    "cellView": "form",
    "id": "9EoQPzPnnhto"
   },
   "outputs": [
    {
     "ename": "NameError",
     "evalue": "name 'df' is not defined",
     "output_type": "error",
     "traceback": [
      "\u001b[1;31m---------------------------------------------------------------------------\u001b[0m",
      "\u001b[1;31mNameError\u001b[0m                                 Traceback (most recent call last)",
      "Cell \u001b[1;32mIn[6], line 2\u001b[0m\n\u001b[0;32m      1\u001b[0m \u001b[38;5;66;03m#@title\u001b[39;00m\n\u001b[1;32m----> 2\u001b[0m t1 \u001b[38;5;241m=\u001b[39m \u001b[43mdf\u001b[49m\u001b[38;5;241m.\u001b[39mga_tilt\u001b[38;5;241m.\u001b[39mvalue_counts(normalize\u001b[38;5;241m=\u001b[39m\u001b[38;5;28;01mTrue\u001b[39;00m)\n\u001b[0;32m      3\u001b[0m t2 \u001b[38;5;241m=\u001b[39m df\u001b[38;5;241m.\u001b[39mga_help\u001b[38;5;241m.\u001b[39mvalue_counts(normalize\u001b[38;5;241m=\u001b[39m\u001b[38;5;28;01mTrue\u001b[39;00m)\n\u001b[0;32m      4\u001b[0m t3 \u001b[38;5;241m=\u001b[39m df\u001b[38;5;241m.\u001b[39mga_preo2\u001b[38;5;241m.\u001b[39mvalue_counts(normalize\u001b[38;5;241m=\u001b[39m\u001b[38;5;28;01mTrue\u001b[39;00m)\n",
      "\u001b[1;31mNameError\u001b[0m: name 'df' is not defined"
     ]
    }
   ],
   "source": [
    "#@title\n",
    "t1 = df.ga_tilt.value_counts(normalize=True)\n",
    "t2 = df.ga_help.value_counts(normalize=True)\n",
    "t3 = df.ga_preo2.value_counts(normalize=True)\n",
    "t4 = df.ga_cricoid.value_counts(normalize=True)\n",
    "t5 = df.ga_tubeposition.value_counts(normalize=True)\n",
    "t6 = df.ga_secure.value_counts(normalize=True)\n",
    "t7 = df.ga_vitals.value_counts(normalize=True)\n",
    "t8 = df.ga_abx.value_counts(normalize=True)\n",
    "t9 = df.ga_oxytocin.value_counts(normalize=True)\n",
    "t10 = df.ga_oxytocintime.value_counts(normalize=True)\n",
    "t11 = df.ga_present.value_counts(normalize=True)\n",
    "t12 = df.ga_extubated.value_counts(normalize=True)\n",
    "\n",
    "ga = pd.concat([t1, t2, t3, t4, t5, t6, t7, t8, t9, t10, t11, t12], axis=1, sort=False)\n",
    "ga.columns = ['Applies tilt', 'Asks for help', '3min preoxygenation', 'Cricoid pressure', 'Checks tube position', 'Secures ETT', 'Monitors VS', 'Administers IV Abx', 'Administers oxytocin', 'Oxytocin at right time', 'Present in theatre', 'Extubated safely']\n",
    "ga = ga.transpose()\n",
    "ga"
   ]
  },
  {
   "cell_type": "code",
   "execution_count": null,
   "metadata": {
    "cellView": "form",
    "id": "82T8mGqgpMY5"
   },
   "outputs": [],
   "source": [
    "#@title\n",
    "fig = go.Figure(data=[\n",
    "  go.Bar(name = 'Yes', x=ga.index, y=ga['Yes']),\n",
    "  go.Bar(name = 'No', x=ga.index, y=ga['No'])\n",
    "])\n",
    "\n",
    "fig.update_layout(barmode='group')\n",
    "fig.show()"
   ]
  },
  {
   "cell_type": "markdown",
   "metadata": {
    "id": "7YZHyfndrCKz"
   },
   "source": [
    "### GA: What vital signs were monitored?"
   ]
  },
  {
   "cell_type": "code",
   "execution_count": null,
   "metadata": {
    "cellView": "form",
    "id": "r4KZj6LLrCLB"
   },
   "outputs": [],
   "source": [
    "#@title\n",
    "# replace 'checked' with which vital signs were monitored were used in main dataframe\n",
    "# note to self: You could do this at the beginning when you open the dataframe\n",
    "df = df.replace({'ga_vitals_which___1':{'Checked':'BP every 5 min'}})\n",
    "df = df.replace({'ga_vitals_which___2':{'Checked':'HR every 5 min'}})\n",
    "df = df.replace({'ga_vitals_which___3':{'Checked':'Continuous SpO2'}})\n",
    "\n",
    "# create dummy variables for indication\n",
    "t1 = df.ga_vitals_which___1\n",
    "t2 = df.ga_vitals_which___2\n",
    "t3 = df.ga_vitals_which___3\n",
    "\n",
    "#join together dummies\n",
    "ga_vitals = pd.concat([t1, t2, t3], axis=0, sort=False)\n",
    "\n",
    "#remove 'unchecked' values\n",
    "ga_vitals = spinal_vitals[spinal_vitals!=\"Unchecked\"]"
   ]
  },
  {
   "cell_type": "markdown",
   "metadata": {
    "id": "YWnwKnZIrCLI"
   },
   "source": [
    "***FLAG*** = need to normalize the following, where the denominator is # of cases"
   ]
  },
  {
   "cell_type": "code",
   "execution_count": null,
   "metadata": {
    "cellView": "form",
    "id": "G0VEY3lorCLP"
   },
   "outputs": [],
   "source": [
    "#@title\n",
    "t1 = ga_vitals.value_counts()\n",
    "t1"
   ]
  },
  {
   "cell_type": "code",
   "execution_count": null,
   "metadata": {
    "cellView": "form",
    "id": "fJKePLFwrCLS"
   },
   "outputs": [],
   "source": [
    "#@title\n",
    "fig = go.Figure([go.Bar(x=t1.index, y=t1[0:])])\n",
    "fig.show()"
   ]
  },
  {
   "cell_type": "markdown",
   "metadata": {
    "id": "-dppi8FjrCLV"
   },
   "source": [
    "### GA: Oxytocin dose"
   ]
  },
  {
   "cell_type": "code",
   "execution_count": null,
   "metadata": {
    "cellView": "form",
    "id": "h5HFyMTRrCLX"
   },
   "outputs": [],
   "source": [
    "#@title\n",
    "t1 = df.ga_oxytocin_dose.value_counts(normalize=True)\n",
    "t1"
   ]
  },
  {
   "cell_type": "code",
   "execution_count": null,
   "metadata": {
    "cellView": "form",
    "id": "yl2ACeLTrCLa"
   },
   "outputs": [],
   "source": [
    "#@title\n",
    "fig = go.Figure([go.Bar(x=t1.index, y=t1[0:])])\n",
    "fig.show()"
   ]
  },
  {
   "cell_type": "markdown",
   "metadata": {
    "id": "vut4muX_rCLc"
   },
   "source": [
    "### GA: Oxytocin method"
   ]
  },
  {
   "cell_type": "code",
   "execution_count": null,
   "metadata": {
    "cellView": "form",
    "id": "s0dKMGu9rCLf"
   },
   "outputs": [],
   "source": [
    "#@title\n",
    "t1 = df.ga_oxytocin_how.value_counts(normalize=True)\n",
    "t1"
   ]
  },
  {
   "cell_type": "code",
   "execution_count": null,
   "metadata": {
    "cellView": "form",
    "id": "iJkPIBkCrCLi"
   },
   "outputs": [],
   "source": [
    "#@title\n",
    "fig = go.Figure([go.Bar(x=t1.index, y=t1[0:])])\n",
    "fig.show()"
   ]
  },
  {
   "cell_type": "markdown",
   "metadata": {
    "id": "9RuO7X8JrkH1"
   },
   "source": [
    "## Extubation"
   ]
  },
  {
   "cell_type": "markdown",
   "metadata": {
    "id": "qdlVXlY7rmrP"
   },
   "source": [
    "### Extubation components"
   ]
  },
  {
   "cell_type": "code",
   "execution_count": null,
   "metadata": {
    "cellView": "form",
    "id": "k-L-utQ_roW4"
   },
   "outputs": [],
   "source": [
    "#@title\n",
    "# replace 'checked' with which vital signs were monitored were used in main dataframe\n",
    "# note to self: You could do this at the beginning when you open the dataframe\n",
    "df = df.replace({'ga_extubation_which___1':{'Checked':'Airway suctioned'}})\n",
    "df = df.replace({'ga_extubation_which___2':{'Checked':'Assess if patient awake'}})\n",
    "df = df.replace({'ga_extubation_which___3':{'Checked':'Assess for regular breathing'}})\n",
    "\n",
    "# create dummy variables for indication\n",
    "t1 = df.ga_extubation_which___1\n",
    "t2 = df.ga_extubation_which___2\n",
    "t3 = df.ga_extubation_which___3\n",
    "\n",
    "#join together dummies\n",
    "ga_extubation = pd.concat([t1, t2, t3], axis=0, sort=False)\n",
    "\n",
    "#remove 'unchecked' values\n",
    "ga_extubation = ga_extubation[ga_extubation!=\"Unchecked\"]"
   ]
  },
  {
   "cell_type": "code",
   "execution_count": null,
   "metadata": {
    "cellView": "form",
    "id": "Tq-hIUkbtXue"
   },
   "outputs": [],
   "source": [
    "#@title\n",
    "t1 = ga_extubation.value_counts()\n",
    "t1"
   ]
  },
  {
   "cell_type": "code",
   "execution_count": null,
   "metadata": {
    "cellView": "form",
    "id": "cBfo6oQ3tXuk"
   },
   "outputs": [],
   "source": [
    "#@title\n",
    "fig = go.Figure([go.Bar(x=t1.index, y=t1[0:])])\n",
    "fig.show()"
   ]
  },
  {
   "cell_type": "markdown",
   "metadata": {
    "id": "H-rBP823txxA"
   },
   "source": [
    "### GA: Adverse events"
   ]
  },
  {
   "cell_type": "code",
   "execution_count": null,
   "metadata": {
    "cellView": "form",
    "id": "eDSXUuEOy434"
   },
   "outputs": [],
   "source": [
    "#@title\n",
    "t1 = df.ga_adverse_diffaw.value_counts(normalize=True)\n",
    "t2 = df.ga_adverse_cicv.value_counts(normalize=True)\n",
    "t3 = df.ga_adverse_hypoxia.value_counts(normalize=True)\n",
    "t4 = df.ga_adverse_regurg.value_counts(normalize=True)\n",
    "t5 = df.ga_adverse_regurg_asp.value_counts(normalize=True)\n",
    "t6 = df.ga_adverse_hypotension.value_counts(normalize=True)\n",
    "t7 = df.ga_adverse_bleeding.value_counts(normalize=True)\n",
    "t8 = df.ga_adverse_seizure.value_counts(normalize=True)\n",
    "t9 = df.ga_adverse_arrest.value_counts(normalize=True)\n",
    "\n",
    "ga_adverse = pd.concat([t1, t2, t3, t4, t5, t6, t7, t8, t9], axis=1, sort=False)\n",
    "ga_adverse.columns = ['Difficult airway', 'Cant intubate, cant ventilate', 'Hypoxia', 'Regurgitation', 'Aspiration', 'Hypotension', 'Bleeding', 'Seizure', 'Arrest']\n",
    "ga_adverse = ga_adverse.transpose()\n",
    "ga_adverse"
   ]
  },
  {
   "cell_type": "markdown",
   "metadata": {
    "id": "w7EvJTrQ0R3k"
   },
   "source": [
    "This throws an error because there are no 'yeses'"
   ]
  },
  {
   "cell_type": "code",
   "execution_count": null,
   "metadata": {
    "cellView": "form",
    "id": "R8TxBV150MPu"
   },
   "outputs": [],
   "source": [
    "#@title\n",
    "#fig = go.Figure(data=[\n",
    "#  go.Bar(name = 'Yes', x=ga_adverse.index, y=ga_adverse['Yes']),\n",
    "#  go.Bar(name = 'No', x=ga_adverse.index, y=ga_adverse['No'])\n",
    "#])\n",
    "\n",
    "#fig.update_layout(barmode='group')\n",
    "#fig.show()"
   ]
  },
  {
   "cell_type": "markdown",
   "metadata": {
    "id": "4ZJzCKwTuFUN"
   },
   "source": [
    "Which difficult airway actions were performed?"
   ]
  },
  {
   "cell_type": "code",
   "execution_count": null,
   "metadata": {
    "cellView": "form",
    "id": "JvMWcOd4uQPP"
   },
   "outputs": [],
   "source": [
    "#@title\n",
    "# replace 'checked' with which difficult airway actions in main dataframe\n",
    "# note to self: You could do this at the beginning when you open the dataframe\n",
    "df = df.replace({'ga_diffaw_which___1':{'Checked':'Gets help'}})\n",
    "df = df.replace({'ga_diffaw_which___2':{'Checked':'Maintains oxygenation'}})\n",
    "df = df.replace({'ga_diffaw_which___3':{'Checked':'Repositions patient'}})\n",
    "df = df.replace({'ga_diffaw_which___4':{'Checked':'Applies BURP'}})\n",
    "df = df.replace({'ga_diffaw_which___5':{'Checked':'Changes laryngoscope blade'}})\n",
    "df = df.replace({'ga_diffaw_which___6':{'Checked':'Uses bougie or stylet'}})\n",
    "\n",
    "# create dummy variables for team members\n",
    "t1 = df.ga_diffaw_which___1\n",
    "t2 = df.ga_diffaw_which___2\n",
    "t3 = df.ga_diffaw_which___3\n",
    "t4 = df.ga_diffaw_which___4\n",
    "t5 = df.ga_diffaw_which___5\n",
    "t6 = df.ga_diffaw_which___6\n",
    "\n",
    "#join together dummies\n",
    "ga_diffaw = pd.concat([t1, t2, t3, t4, t5, t6], axis=0, sort=False)\n",
    "\n",
    "#remove 'unchecked' values\n",
    "ga_diffaw = ga_diffaw[ga_diffaw!='Unchecked']"
   ]
  },
  {
   "cell_type": "code",
   "execution_count": null,
   "metadata": {
    "cellView": "form",
    "id": "bJB-DSUS0cBh"
   },
   "outputs": [],
   "source": [
    "#@title\n",
    "t1 = ga_diffaw.value_counts()\n",
    "t1"
   ]
  },
  {
   "cell_type": "code",
   "execution_count": null,
   "metadata": {
    "cellView": "form",
    "id": "Hnp9S_l40hxk"
   },
   "outputs": [],
   "source": [
    "#@title\n",
    "fig = go.Figure([go.Bar(x=t1.index, y=t1[0:])])\n",
    "fig.show()"
   ]
  },
  {
   "cell_type": "markdown",
   "metadata": {
    "id": "vXDwNWJgwu2m"
   },
   "source": [
    "When was the hypoxia?"
   ]
  },
  {
   "cell_type": "code",
   "execution_count": null,
   "metadata": {
    "cellView": "form",
    "id": "aHPqbMbAw-sQ"
   },
   "outputs": [],
   "source": [
    "#@title\n",
    "# replace 'checked' with which difficult airway actions in main dataframe\n",
    "# note to self: You could do this at the beginning when you open the dataframe\n",
    "df = df.replace({'ga_adverse_hypoxia_when___1':{'Checked':'Gets help'}})\n",
    "df = df.replace({'ga_adverse_hypoxia_when___2':{'Checked':'Maintains oxygenation'}})\n",
    "df = df.replace({'ga_adverse_hypoxia_when___3':{'Checked':'Repositions patient'}})\n",
    "df = df.replace({'ga_adverse_hypoxia_when___4':{'Checked':'Applies BURP'}})\n",
    "\n",
    "# create dummy variables for team members\n",
    "t1 = df.ga_adverse_hypoxia_when___1\n",
    "t2 = df.ga_adverse_hypoxia_when___2\n",
    "t3 = df.ga_adverse_hypoxia_when___3\n",
    "t4 = df.ga_adverse_hypoxia_when___4\n",
    "\n",
    "#join together dummies\n",
    "ga_hypoxia = pd.concat([t1, t2, t3, t4], axis=0, sort=False)\n",
    "\n",
    "#remove 'unchecked' values\n",
    "ga_hypoxia = ga_hypoxia[ga_hypoxia!='Unchecked']"
   ]
  },
  {
   "cell_type": "code",
   "execution_count": null,
   "metadata": {
    "cellView": "form",
    "id": "YIOHbSQOxZTn"
   },
   "outputs": [],
   "source": [
    "#@title\n",
    "t1 = ga_hypoxia.value_counts()\n",
    "t1"
   ]
  },
  {
   "cell_type": "code",
   "execution_count": null,
   "metadata": {
    "cellView": "form",
    "id": "C3JWgZKIxcCq"
   },
   "outputs": [],
   "source": [
    "#@title\n",
    "fig = go.Figure([go.Bar(x=t1.index, y=t1[0:])])\n",
    "fig.show()"
   ]
  },
  {
   "cell_type": "markdown",
   "metadata": {
    "id": "WVhTE1CRyCt1"
   },
   "source": [
    "Which element of hypotension?"
   ]
  },
  {
   "cell_type": "code",
   "execution_count": null,
   "metadata": {
    "cellView": "form",
    "id": "FYWeWDkuyIxs"
   },
   "outputs": [],
   "source": [
    "#@title\n",
    "# replace 'checked' the reason for bp treatment, in main dataframe\n",
    "# note to self: You could do this at the beginning when you open the dataframe\n",
    "df = df.replace({'ga_adverse_hypo_which___1':{'Checked':'>20% drop'}})\n",
    "df = df.replace({'ga_adverse_hypo_which___2':{'Checked':'<70mmhg'}})\n",
    "\n",
    "# create dummy variables for indication\n",
    "t1 = df.ga_adverse_hypo_which___1\n",
    "t2 = df.ga_adverse_hypo_which___2\n",
    "\n",
    "#join together dummies\n",
    "gahypo = pd.concat([t1, t2], axis=0, sort=False)\n",
    "\n",
    "#remove 'unchecked' values\n",
    "gahypo = gahypo[gahypo!=\"Unchecked\"]"
   ]
  },
  {
   "cell_type": "code",
   "execution_count": null,
   "metadata": {
    "cellView": "form",
    "id": "_f4-wQsSyIx8"
   },
   "outputs": [],
   "source": [
    "#@title\n",
    "gahypo.value_counts()"
   ]
  },
  {
   "cell_type": "markdown",
   "metadata": {
    "id": "USDY-zff0u2l"
   },
   "source": [
    "## End of Case: GA"
   ]
  },
  {
   "cell_type": "markdown",
   "metadata": {
    "id": "vrGlE8ll0u24"
   },
   "source": [
    "### Place of recovery?"
   ]
  },
  {
   "cell_type": "code",
   "execution_count": null,
   "metadata": {
    "cellView": "form",
    "id": "LaZpw-Zy0u27"
   },
   "outputs": [],
   "source": [
    "#@title\n",
    "t1 = df.ga_end_where.value_counts(normalize=True)\n",
    "t1"
   ]
  },
  {
   "cell_type": "code",
   "execution_count": null,
   "metadata": {
    "cellView": "form",
    "id": "T1Ff64810u3N"
   },
   "outputs": [],
   "source": [
    "#@title\n",
    "fig = go.Figure([go.Bar(x=t1.index, y=t1[0:])])\n",
    "fig.show()"
   ]
  },
  {
   "cell_type": "markdown",
   "metadata": {
    "id": "tev2rWc60u3b"
   },
   "source": [
    "### Dedicated recovery staff?"
   ]
  },
  {
   "cell_type": "code",
   "execution_count": null,
   "metadata": {
    "cellView": "form",
    "id": "aWfcqPnG0u3e"
   },
   "outputs": [],
   "source": [
    "#@title\n",
    "t1 = df.ga_end_who.value_counts(normalize=True)\n",
    "t1"
   ]
  },
  {
   "cell_type": "code",
   "execution_count": null,
   "metadata": {
    "cellView": "form",
    "id": "1130S_ap0u3p"
   },
   "outputs": [],
   "source": [
    "#@title\n",
    "fig = go.Figure([go.Bar(x=t1.index, y=t1[0:])])\n",
    "fig.show()"
   ]
  },
  {
   "cell_type": "markdown",
   "metadata": {
    "id": "l7NCV-gw0u30"
   },
   "source": [
    "### Recovery monitors"
   ]
  },
  {
   "cell_type": "code",
   "execution_count": null,
   "metadata": {
    "cellView": "form",
    "id": "hdcxJuzc0u34"
   },
   "outputs": [],
   "source": [
    "#@title\n",
    "# replace 'checked' what recovery monitors were used, in main dataframe\n",
    "# note to self: You could do this at the beginning when you open the dataframe\n",
    "df = df.replace({'ga_end_monitors___1':{'Checked':'BP'}})\n",
    "df = df.replace({'ga_end_monitors___2':{'Checked':'SpO2'}})\n",
    "df = df.replace({'ga_end_monitors___3':{'Checked':'HR'}})\n",
    "\n",
    "# create dummy variables for indication\n",
    "t1 = df.ga_end_monitors___1\n",
    "t2 = df.ga_end_monitors___2\n",
    "t3 = df.ga_end_monitors___3\n",
    "\n",
    "#join together dummies\n",
    "ga_end_monitors_which = pd.concat([t1, t2, t3], axis=0, sort=False)\n",
    "\n",
    "#remove 'unchecked' values\n",
    "ga_end_monitors_which = ga_end_monitors_which[ga_end_monitors_which!=\"Unchecked\"]"
   ]
  },
  {
   "cell_type": "markdown",
   "metadata": {
    "id": "4Pf95PR90u39"
   },
   "source": [
    "FLAG need again to normalize to total number of cases, this is pure count"
   ]
  },
  {
   "cell_type": "code",
   "execution_count": null,
   "metadata": {
    "cellView": "form",
    "id": "ySh9Umls0u3-"
   },
   "outputs": [],
   "source": [
    "#@title\n",
    "ga_end_monitors_which.value_counts()"
   ]
  },
  {
   "cell_type": "markdown",
   "metadata": {
    "id": "4NGPLsox0u4D"
   },
   "source": [
    "### Unstructured spinal observation"
   ]
  },
  {
   "cell_type": "code",
   "execution_count": null,
   "metadata": {
    "cellView": "form",
    "id": "iJwlDAaR0u4E"
   },
   "outputs": [],
   "source": [
    "#@title\n",
    "df.ga_unstructured.dropna()"
   ]
  },
  {
   "cell_type": "markdown",
   "metadata": {
    "id": "-uvU7W8EGY3r"
   },
   "source": [
    "\n",
    "\n",
    "---\n",
    "\n",
    "\n",
    "# Emergency packet"
   ]
  },
  {
   "cell_type": "markdown",
   "metadata": {
    "id": "G2t_D0C3GoAv"
   },
   "source": [
    "## Peripartum hemorrhage"
   ]
  },
  {
   "cell_type": "code",
   "execution_count": null,
   "metadata": {
    "cellView": "form",
    "id": "mVZzjTe8HBzb"
   },
   "outputs": [],
   "source": [
    "#@title\n",
    "t1 = df.ga_adverse_diffaw.value_counts(normalize=True)\n",
    "t2 = df.ga_adverse_cicv.value_counts(normalize=True)\n",
    "t3 = df.ga_adverse_hypoxia.value_counts(normalize=True)\n",
    "t4 = df.ga_adverse_regurg.value_counts(normalize=True)\n",
    "t5 = df.ga_adverse_regurg_asp.value_counts(normalize=True)\n",
    "t6 = df.ga_adverse_hypotension.value_counts(normalize=True)\n",
    "t7 = df.ga_adverse_bleeding.value_counts(normalize=True)\n",
    "t8 = df.ga_adverse_seizure.value_counts(normalize=True)\n",
    "t9 = df.ga_adverse_arrest.value_counts(normalize=True)\n",
    "\n",
    "ga_adverse = pd.concat([t1, t2, t3, t4, t5, t6, t7, t8, t9], axis=1, sort=False)\n",
    "ga_adverse.columns = ['Difficult airway', 'Cant intubate, cant ventilate', 'Hypoxia', 'Regurgitation', 'Aspiration', 'Hypotension', 'Bleeding', 'Seizure', 'Arrest']\n",
    "ga_adverse = ga_adverse.transpose()\n",
    "ga_adverse"
   ]
  },
  {
   "cell_type": "code",
   "execution_count": null,
   "metadata": {
    "cellView": "form",
    "id": "6KBgYDnHPdYr"
   },
   "outputs": [],
   "source": [
    "#@title\n",
    "fig = go.Figure(data=[\n",
    "  go.Bar(name = 'Yes', x=ga_adverse.index, y=ga_adverse['Yes']),\n",
    "  go.Bar(name = 'No', x=ga_adverse.index, y=ga_adverse['No'])\n",
    "])\n",
    "\n",
    "fig.update_layout(barmode='group')\n",
    "fig.show()"
   ]
  },
  {
   "cell_type": "markdown",
   "metadata": {
    "id": "N6nKC00xGqkZ"
   },
   "source": [
    "## Approach to collapsed/unconscious patient"
   ]
  },
  {
   "cell_type": "markdown",
   "metadata": {
    "id": "heN_zNY3RdF5"
   },
   "source": [
    "There appear to be no values filled out here."
   ]
  },
  {
   "cell_type": "code",
   "execution_count": null,
   "metadata": {
    "cellView": "form",
    "id": "Ae-1RMJyQgv1"
   },
   "outputs": [],
   "source": [
    "#@title\n",
    "t1 = df.adverse_arrest_help.value_counts(normalize=True)\n",
    "t2 = df.adverse_arrest_airway.value_counts(normalize=True)\n",
    "t3 = df.adverse_arrest_breathing.value_counts(normalize=True)\n",
    "t4 = df.adverse_arrest_o2.value_counts(normalize=True)\n",
    "t5 = df.adverse_arrest_pulse.value_counts(normalize=True)\n",
    "t6 = df.adverse_arrest_tilt.value_counts(normalize=True)\n",
    "t7 = df.adverse_arrest_fluids.value_counts(normalize=True)\n",
    "t8 = df.adverse_arrest_bp.value_counts(normalize=True)\n",
    "t9 = df.adverse_arrest_communicate.value_counts(normalize=True)\n",
    "\n",
    "adverse_arrest = pd.concat([t1, t2, t3, t4, t5, t6, t7, t8, t9], axis=1, sort=False)\n",
    "adverse_arrest.columns = ['Asks for help', 'Assesses/opens airway', 'Assesses breathing/SpO2', 'High flow o2', 'Checks pulse', 'Applies/checks tilt', 'Checks IV fluids/running', 'Checks BP', 'Communicates with surgeon/OB']\n",
    "adverse_arrest = adverse_arrest.transpose()\n",
    "adverse_arrest"
   ]
  },
  {
   "cell_type": "markdown",
   "metadata": {
    "id": "pVJJwbcdGukI"
   },
   "source": [
    "## Neonatal resuscitation"
   ]
  },
  {
   "cell_type": "code",
   "execution_count": null,
   "metadata": {
    "cellView": "form",
    "id": "jr0xWpJjRr8j"
   },
   "outputs": [],
   "source": [
    "#@title\n",
    "t1 = df.adverse_neo_attempt.value_counts(normalize=True)\n",
    "t2 = df.adverse_neo_timer.value_counts(normalize=True)\n",
    "t3 = df.adverse_neo_dries.value_counts(normalize=True)\n",
    "t4 = df.adverse_neo_towel.value_counts(normalize=True)\n",
    "t5 = df.adverse_neo_airway.value_counts(normalize=True)\n",
    "t6 = df.adverse_neo_breathing.value_counts(normalize=True)\n",
    "t7 = df.adverse_neo_hr.value_counts(normalize=True)\n",
    "t8 = df.adverse_neo_5breath.value_counts(normalize=True)\n",
    "t9 = df.adverse_neo_5morebreath.value_counts(normalize=True)\n",
    "t10 = df.adverse_neo_compressions.value_counts(normalize=True)\n",
    "\n",
    "adverse_neo = pd.concat([t1, t2, t3, t4, t5, t6, t7, t8, t9, t10], axis=1, sort=False)\n",
    "adverse_neo.columns = ['Attempts to resuscitate', 'Starts timer', 'Dries baby', 'Keeps warm + towel', 'Opens airway', 'Assesses breathing', 'Assesses heart beat', 'Gives 5 breaths', 'Gives 5 more breaths', 'Performs CPR for HR<100']\n",
    "adverse_neo = adverse_neo.transpose()\n",
    "adverse_neo"
   ]
  },
  {
   "cell_type": "code",
   "execution_count": null,
   "metadata": {
    "cellView": "form",
    "id": "-OPxBL6eXpDa"
   },
   "outputs": [],
   "source": [
    "#@title\n",
    "t1 = df.adverse_neo_attempt.value_counts(normalize=False)\n",
    "t2 = df.adverse_neo_timer.value_counts(normalize=False)\n",
    "t3 = df.adverse_neo_dries.value_counts(normalize=False)\n",
    "t4 = df.adverse_neo_towel.value_counts(normalize=False)\n",
    "t5 = df.adverse_neo_airway.value_counts(normalize=False)\n",
    "t6 = df.adverse_neo_breathing.value_counts(normalize=False)\n",
    "t7 = df.adverse_neo_hr.value_counts(normalize=False)\n",
    "t8 = df.adverse_neo_5breath.value_counts(normalize=False)\n",
    "t9 = df.adverse_neo_5morebreath.value_counts(normalize=False)\n",
    "t10 = df.adverse_neo_compressions.value_counts(normalize=False)\n",
    "\n",
    "adverse_neo = pd.concat([t1, t2, t3, t4, t5, t6, t7, t8, t9, t10], axis=1, sort=False)\n",
    "adverse_neo.columns = ['Attempts to resuscitate', 'Starts timer', 'Dries baby', 'Keeps warm + towel', 'Opens airway', 'Assesses breathing', 'Assesses heart beat', 'Gives 5 breaths', 'Gives 5 more breaths', 'Performs CPR for HR<100']\n",
    "adverse_neo = adverse_neo.transpose()\n",
    "adverse_neo"
   ]
  },
  {
   "cell_type": "code",
   "execution_count": null,
   "metadata": {
    "cellView": "form",
    "id": "YYQNTdslTQAc"
   },
   "outputs": [],
   "source": [
    "#@title\n",
    "fig = go.Figure(data=[\n",
    "  go.Bar(name = 'Yes', x=adverse_neo.index, y=adverse_neo['Yes']),\n",
    "  go.Bar(name = 'No', x=adverse_neo.index, y=adverse_neo['No'])\n",
    "])\n",
    "\n",
    "fig.update_layout(barmode='group')\n",
    "fig.show()"
   ]
  },
  {
   "cell_type": "markdown",
   "metadata": {
    "id": "eNiZyNuEGwzP"
   },
   "source": [
    "## Other adverse events"
   ]
  },
  {
   "cell_type": "code",
   "execution_count": null,
   "metadata": {
    "cellView": "form",
    "id": "XjIcOnUuGiju"
   },
   "outputs": [],
   "source": [
    "#@title\n",
    "t1 = df.adverse_other_equip.value_counts(normalize=True)\n",
    "t2 = df.adverse_other_power.value_counts(normalize=True)\n",
    "t3 = df.adverse_other_o2.value_counts(normalize=True)\n",
    "\n",
    "adverse_other = pd.concat([t1, t2, t3], axis=1, sort=False)\n",
    "adverse_other.columns = ['Anesthesia equipment failure', 'Power failure', 'Loss of oxygen']\n",
    "adverse_other = adverse_other.transpose()\n",
    "adverse_other"
   ]
  },
  {
   "cell_type": "code",
   "execution_count": null,
   "metadata": {
    "cellView": "form",
    "id": "WrO1j5PRT59Q"
   },
   "outputs": [],
   "source": [
    "#@title\n",
    "df.adverse_unstructured.dropna()"
   ]
  },
  {
   "cell_type": "markdown",
   "metadata": {
    "id": "E2Q9LDekP8k5"
   },
   "source": [
    "# Post-Safe 1 comparision"
   ]
  },
  {
   "cell_type": "code",
   "execution_count": null,
   "metadata": {
    "cellView": "form",
    "id": "c5wEfu_sQF-2"
   },
   "outputs": [],
   "source": [
    "#@title\n"
   ]
  }
 ],
 "metadata": {
  "colab": {
   "provenance": [],
   "toc_visible": true
  },
  "kernelspec": {
   "display_name": "Python 3 (ipykernel)",
   "language": "python",
   "name": "python3"
  },
  "language_info": {
   "codemirror_mode": {
    "name": "ipython",
    "version": 3
   },
   "file_extension": ".py",
   "mimetype": "text/x-python",
   "name": "python",
   "nbconvert_exporter": "python",
   "pygments_lexer": "ipython3",
   "version": "3.9.12"
  }
 },
 "nbformat": 4,
 "nbformat_minor": 1
}
